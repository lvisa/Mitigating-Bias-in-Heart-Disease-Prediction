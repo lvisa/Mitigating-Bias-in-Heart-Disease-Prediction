{
  "cells": [
    {
      "cell_type": "markdown",
      "source": [
        "##### Import data and packages"
      ],
      "metadata": {
        "id": "JAiptIc5txB9"
      }
    },
    {
      "cell_type": "code",
      "execution_count": 55,
      "metadata": {
        "id": "toJy4Am2gmpp"
      },
      "outputs": [],
      "source": [
        "import numpy as np\n",
        "import pandas as pd\n",
        "import matplotlib.pyplot as plt\n",
        "import seaborn as sns\n",
        "from sklearn.linear_model import LogisticRegression\n",
        "from sklearn.model_selection import train_test_split\n",
        "from google.colab import drive\n",
        "from google.colab import files\n",
        "import pandas as pd\n",
        "import matplotlib.pyplot as plt\n",
        "from sklearn.preprocessing import StandardScaler, OneHotEncoder\n",
        "from sklearn.compose import ColumnTransformer\n",
        "from sklearn.pipeline import Pipeline\n",
        "from sklearn.preprocessing import LabelEncoder\n",
        "from itertools import product\n",
        "from sklearn.metrics import accuracy_score, recall_score\n",
        "from sklearn.ensemble import RandomForestClassifier\n"
      ]
    },
    {
      "cell_type": "markdown",
      "source": [
        "# Dataset Cleaning"
      ],
      "metadata": {
        "id": "YYdinbGDARAh"
      }
    },
    {
      "cell_type": "code",
      "execution_count": 56,
      "metadata": {
        "id": "7IRa2w3m8xoL",
        "colab": {
          "base_uri": "https://localhost:8080/"
        },
        "outputId": "bdca1c16-c4cb-49bb-e76a-67ffa10df056"
      },
      "outputs": [
        {
          "output_type": "stream",
          "name": "stdout",
          "text": [
            "Drive already mounted at /content/drive; to attempt to forcibly remount, call drive.mount(\"/content/drive\", force_remount=True).\n"
          ]
        }
      ],
      "source": [
        "# Mounting Google Drive\n",
        "drive.mount('/content/drive')\n",
        "\n",
        "# Path to Excel file on Google Drive\n",
        "file_path = '/content/drive/My Drive/Data/heart.csv'\n",
        "\n",
        "# Loading the sheets into dataframes\n",
        "df = pd.read_csv(file_path)"
      ]
    },
    {
      "cell_type": "code",
      "execution_count": 57,
      "metadata": {
        "colab": {
          "base_uri": "https://localhost:8080/"
        },
        "id": "QO7MDt4y9Nno",
        "outputId": "32c1c0f3-0520-4f84-f73e-903fc8c0f045"
      },
      "outputs": [
        {
          "output_type": "stream",
          "name": "stdout",
          "text": [
            "   age  sex  cp  trestbps  chol  fbs  restecg  thalach  exang  oldpeak  slope  \\\n",
            "0   52    1   0       125   212    0        1      168      0      1.0      2   \n",
            "1   53    1   0       140   203    1        0      155      1      3.1      0   \n",
            "2   70    1   0       145   174    0        1      125      1      2.6      0   \n",
            "3   61    1   0       148   203    0        1      161      0      0.0      2   \n",
            "4   62    0   0       138   294    1        1      106      0      1.9      1   \n",
            "\n",
            "   ca  thal  target  \n",
            "0   2     3       0  \n",
            "1   0     3       0  \n",
            "2   0     3       0  \n",
            "3   1     3       0  \n",
            "4   3     2       0  \n"
          ]
        }
      ],
      "source": [
        "# Exploring main variables of the dataset\n",
        "print(df.head())"
      ]
    },
    {
      "cell_type": "markdown",
      "source": [
        "-\tPresence of heart disease (target): No (0), Yes(1)\n",
        "- Age\n",
        "-\tSex: Female (0), Male (1)\n",
        "-\tBlood pressure (trestbps)\n",
        "-\tCholesterol levels (chol)\n",
        "- Fasting blood sugar (fbs)\n",
        "- Resting electrocardiographic results (restecg)\n",
        "- Maximum heart rate achieved (thalach)\n",
        "-\tExercise induced angina (exang)\n",
        "-\tST depression induced by exercise relative to rest (oldpeak)\n",
        "-\tSlope of the peak exercise ST segment (slope)\n",
        "-\tNumber of major vessels colored by fluoroscopy (ca)\n",
        "-\tThallium stress test result (thal)"
      ],
      "metadata": {
        "id": "HbP58uQ0dFsg"
      }
    },
    {
      "cell_type": "markdown",
      "source": [
        "# Data Stats"
      ],
      "metadata": {
        "id": "znN5uAAdt5G_"
      }
    },
    {
      "cell_type": "code",
      "source": [
        "# Dropping duplicates\n",
        "df.drop_duplicates(inplace=True)\n",
        "df.reset_index(drop=True,inplace=True)"
      ],
      "metadata": {
        "id": "nsDDwBnorgE2"
      },
      "execution_count": 58,
      "outputs": []
    },
    {
      "cell_type": "code",
      "source": [
        "# Grouping by 'sex' and counting the frequencies for 'target'\n",
        "counts = df.groupby(['sex', 'target']).size().unstack()\n",
        "\n",
        "# Generating the bar chart\n",
        "counts.plot(kind='bar', stacked=True)\n",
        "plt.title('Distribution of Heart Attack by Sex')\n",
        "plt.xlabel('Sex')\n",
        "plt.ylabel('Count')\n",
        "plt.xticks(ticks=[0, 1], labels=['Women (0)', 'Men (1)'], rotation=0)  # Adjust labels according to the meaning of 'sex'\n",
        "plt.legend(title='Target', labels=['No Heart Attack (0)', 'Heart Attack (1)'])\n",
        "plt.show()\n"
      ],
      "metadata": {
        "colab": {
          "base_uri": "https://localhost:8080/",
          "height": 472
        },
        "id": "HcmTNnMTFZ-k",
        "outputId": "78bff9a8-c39b-4b07-e952-c8d96a117614"
      },
      "execution_count": 59,
      "outputs": [
        {
          "output_type": "display_data",
          "data": {
            "text/plain": [
              "<Figure size 640x480 with 1 Axes>"
            ],
            "image/png": "[encoded data removed]"
          },
          "metadata": {}
        }
      ]
    },
    {
      "cell_type": "code",
      "source": [
        "# Summary statistics of the dataset\n",
        "df.describe()"
      ],
      "metadata": {
        "colab": {
          "base_uri": "https://localhost:8080/",
          "height": 300
        },
        "id": "pyjgxoBQa2CO",
        "outputId": "269d9357-55d7-4eec-918f-c01b79c1e23e"
      },
      "execution_count": 60,
      "outputs": [
        {
          "output_type": "execute_result",
          "data": {
            "text/plain": [
              "             age         sex          cp    trestbps        chol         fbs  \\\n",
              "count  302.00000  302.000000  302.000000  302.000000  302.000000  302.000000   \n",
              "mean    54.42053    0.682119    0.963576  131.602649  246.500000    0.149007   \n",
              "std      9.04797    0.466426    1.032044   17.563394   51.753489    0.356686   \n",
              "min     29.00000    0.000000    0.000000   94.000000  126.000000    0.000000   \n",
              "25%     48.00000    0.000000    0.000000  120.000000  211.000000    0.000000   \n",
              "50%     55.50000    1.000000    1.000000  130.000000  240.500000    0.000000   \n",
              "75%     61.00000    1.000000    2.000000  140.000000  274.750000    0.000000   \n",
              "max     77.00000    1.000000    3.000000  200.000000  564.000000    1.000000   \n",
              "\n",
              "          restecg     thalach       exang     oldpeak       slope          ca  \\\n",
              "count  302.000000  302.000000  302.000000  302.000000  302.000000  302.000000   \n",
              "mean     0.526490  149.569536    0.327815    1.043046    1.397351    0.718543   \n",
              "std      0.526027   22.903527    0.470196    1.161452    0.616274    1.006748   \n",
              "min      0.000000   71.000000    0.000000    0.000000    0.000000    0.000000   \n",
              "25%      0.000000  133.250000    0.000000    0.000000    1.000000    0.000000   \n",
              "50%      1.000000  152.500000    0.000000    0.800000    1.000000    0.000000   \n",
              "75%      1.000000  166.000000    1.000000    1.600000    2.000000    1.000000   \n",
              "max      2.000000  202.000000    1.000000    6.200000    2.000000    4.000000   \n",
              "\n",
              "             thal      target  \n",
              "count  302.000000  302.000000  \n",
              "mean     2.314570    0.543046  \n",
              "std      0.613026    0.498970  \n",
              "min      0.000000    0.000000  \n",
              "25%      2.000000    0.000000  \n",
              "50%      2.000000    1.000000  \n",
              "75%      3.000000    1.000000  \n",
              "max      3.000000    1.000000  "
            ],
            "text/html": [
              "\n",
              "  <div id=\"df-b71142e2-ad3a-4f43-b19f-649718c7ecc4\" class=\"colab-df-container\">\n",
              "    <div>\n",
              "<style scoped>\n",
              "    .dataframe tbody tr th:only-of-type {\n",
              "        vertical-align: middle;\n",
              "    }\n",
              "\n",
              "    .dataframe tbody tr th {\n",
              "        vertical-align: top;\n",
              "    }\n",
              "\n",
              "    .dataframe thead th {\n",
              "        text-align: right;\n",
              "    }\n",
              "</style>\n",
              "<table border=\"1\" class=\"dataframe\">\n",
              "  <thead>\n",
              "    <tr style=\"text-align: right;\">\n",
              "      <th></th>\n",
              "      <th>age</th>\n",
              "      <th>sex</th>\n",
              "      <th>cp</th>\n",
              "      <th>trestbps</th>\n",
              "      <th>chol</th>\n",
              "      <th>fbs</th>\n",
              "      <th>restecg</th>\n",
              "      <th>thalach</th>\n",
              "      <th>exang</th>\n",
              "      <th>oldpeak</th>\n",
              "      <th>slope</th>\n",
              "      <th>ca</th>\n",
              "      <th>thal</th>\n",
              "      <th>target</th>\n",
              "    </tr>\n",
              "  </thead>\n",
              "  <tbody>\n",
              "    <tr>\n",
              "      <th>count</th>\n",
              "      <td>302.00000</td>\n",
              "      <td>302.000000</td>\n",
              "      <td>302.000000</td>\n",
              "      <td>302.000000</td>\n",
              "      <td>302.000000</td>\n",
              "      <td>302.000000</td>\n",
              "      <td>302.000000</td>\n",
              "      <td>302.000000</td>\n",
              "      <td>302.000000</td>\n",
              "      <td>302.000000</td>\n",
              "      <td>302.000000</td>\n",
              "      <td>302.000000</td>\n",
              "      <td>302.000000</td>\n",
              "      <td>302.000000</td>\n",
              "    </tr>\n",
              "    <tr>\n",
              "      <th>mean</th>\n",
              "      <td>54.42053</td>\n",
              "      <td>0.682119</td>\n",
              "      <td>0.963576</td>\n",
              "      <td>131.602649</td>\n",
              "      <td>246.500000</td>\n",
              "      <td>0.149007</td>\n",
              "      <td>0.526490</td>\n",
              "      <td>149.569536</td>\n",
              "      <td>0.327815</td>\n",
              "      <td>1.043046</td>\n",
              "      <td>1.397351</td>\n",
              "      <td>0.718543</td>\n",
              "      <td>2.314570</td>\n",
              "      <td>0.543046</td>\n",
              "    </tr>\n",
              "    <tr>\n",
              "      <th>std</th>\n",
              "      <td>9.04797</td>\n",
              "      <td>0.466426</td>\n",
              "      <td>1.032044</td>\n",
              "      <td>17.563394</td>\n",
              "      <td>51.753489</td>\n",
              "      <td>0.356686</td>\n",
              "      <td>0.526027</td>\n",
              "      <td>22.903527</td>\n",
              "      <td>0.470196</td>\n",
              "      <td>1.161452</td>\n",
              "      <td>0.616274</td>\n",
              "      <td>1.006748</td>\n",
              "      <td>0.613026</td>\n",
              "      <td>0.498970</td>\n",
              "    </tr>\n",
              "    <tr>\n",
              "      <th>min</th>\n",
              "      <td>29.00000</td>\n",
              "      <td>0.000000</td>\n",
              "      <td>0.000000</td>\n",
              "      <td>94.000000</td>\n",
              "      <td>126.000000</td>\n",
              "      <td>0.000000</td>\n",
              "      <td>0.000000</td>\n",
              "      <td>71.000000</td>\n",
              "      <td>0.000000</td>\n",
              "      <td>0.000000</td>\n",
              "      <td>0.000000</td>\n",
              "      <td>0.000000</td>\n",
              "      <td>0.000000</td>\n",
              "      <td>0.000000</td>\n",
              "    </tr>\n",
              "    <tr>\n",
              "      <th>25%</th>\n",
              "      <td>48.00000</td>\n",
              "      <td>0.000000</td>\n",
              "      <td>0.000000</td>\n",
              "      <td>120.000000</td>\n",
              "      <td>211.000000</td>\n",
              "      <td>0.000000</td>\n",
              "      <td>0.000000</td>\n",
              "      <td>133.250000</td>\n",
              "      <td>0.000000</td>\n",
              "      <td>0.000000</td>\n",
              "      <td>1.000000</td>\n",
              "      <td>0.000000</td>\n",
              "      <td>2.000000</td>\n",
              "      <td>0.000000</td>\n",
              "    </tr>\n",
              "    <tr>\n",
              "      <th>50%</th>\n",
              "      <td>55.50000</td>\n",
              "      <td>1.000000</td>\n",
              "      <td>1.000000</td>\n",
              "      <td>130.000000</td>\n",
              "      <td>240.500000</td>\n",
              "      <td>0.000000</td>\n",
              "      <td>1.000000</td>\n",
              "      <td>152.500000</td>\n",
              "      <td>0.000000</td>\n",
              "      <td>0.800000</td>\n",
              "      <td>1.000000</td>\n",
              "      <td>0.000000</td>\n",
              "      <td>2.000000</td>\n",
              "      <td>1.000000</td>\n",
              "    </tr>\n",
              "    <tr>\n",
              "      <th>75%</th>\n",
              "      <td>61.00000</td>\n",
              "      <td>1.000000</td>\n",
              "      <td>2.000000</td>\n",
              "      <td>140.000000</td>\n",
              "      <td>274.750000</td>\n",
              "      <td>0.000000</td>\n",
              "      <td>1.000000</td>\n",
              "      <td>166.000000</td>\n",
              "      <td>1.000000</td>\n",
              "      <td>1.600000</td>\n",
              "      <td>2.000000</td>\n",
              "      <td>1.000000</td>\n",
              "      <td>3.000000</td>\n",
              "      <td>1.000000</td>\n",
              "    </tr>\n",
              "    <tr>\n",
              "      <th>max</th>\n",
              "      <td>77.00000</td>\n",
              "      <td>1.000000</td>\n",
              "      <td>3.000000</td>\n",
              "      <td>200.000000</td>\n",
              "      <td>564.000000</td>\n",
              "      <td>1.000000</td>\n",
              "      <td>2.000000</td>\n",
              "      <td>202.000000</td>\n",
              "      <td>1.000000</td>\n",
              "      <td>6.200000</td>\n",
              "      <td>2.000000</td>\n",
              "      <td>4.000000</td>\n",
              "      <td>3.000000</td>\n",
              "      <td>1.000000</td>\n",
              "    </tr>\n",
              "  </tbody>\n",
              "</table>\n",
              "</div>\n",
              "    <div class=\"colab-df-buttons\">\n",
              "\n",
              "  <div class=\"colab-df-container\">\n",
              "    <button class=\"colab-df-convert\" onclick=\"convertToInteractive('df-b71142e2-ad3a-4f43-b19f-649718c7ecc4')\"\n",
              "            title=\"Convert this dataframe to an interactive table.\"\n",
              "            style=\"display:none;\">\n",
              "\n",
              "  <svg xmlns=\"http://www.w3.org/2000/svg\" height=\"24px\" viewBox=\"0 -960 960 960\">\n",
              "    <path d=\"M120-120v-720h720v720H120Zm60-500h600v-160H180v160Zm220 220h160v-160H400v160Zm0 220h160v-160H400v160ZM180-400h160v-160H180v160Zm440 0h160v-160H620v160ZM180-180h160v-160H180v160Zm440 0h160v-160H620v160Z\"/>\n",
              "  </svg>\n",
              "    </button>\n",
              "\n",
              "  <style>\n",
              "    .colab-df-container {\n",
              "      display:flex;\n",
              "      gap: 12px;\n",
              "    }\n",
              "\n",
              "    .colab-df-convert {\n",
              "      background-color: #E8F0FE;\n",
              "      border: none;\n",
              "      border-radius: 50%;\n",
              "      cursor: pointer;\n",
              "      display: none;\n",
              "      fill: #1967D2;\n",
              "      height: 32px;\n",
              "      padding: 0 0 0 0;\n",
              "      width: 32px;\n",
              "    }\n",
              "\n",
              "    .colab-df-convert:hover {\n",
              "      background-color: #E2EBFA;\n",
              "      box-shadow: 0px 1px 2px rgba(60, 64, 67, 0.3), 0px 1px 3px 1px rgba(60, 64, 67, 0.15);\n",
              "      fill: #174EA6;\n",
              "    }\n",
              "\n",
              "    .colab-df-buttons div {\n",
              "      margin-bottom: 4px;\n",
              "    }\n",
              "\n",
              "    [theme=dark] .colab-df-convert {\n",
              "      background-color: #3B4455;\n",
              "      fill: #D2E3FC;\n",
              "    }\n",
              "\n",
              "    [theme=dark] .colab-df-convert:hover {\n",
              "      background-color: #434B5C;\n",
              "      box-shadow: 0px 1px 3px 1px rgba(0, 0, 0, 0.15);\n",
              "      filter: drop-shadow(0px 1px 2px rgba(0, 0, 0, 0.3));\n",
              "      fill: #FFFFFF;\n",
              "    }\n",
              "  </style>\n",
              "\n",
              "    <script>\n",
              "      const buttonEl =\n",
              "        document.querySelector('#df-b71142e2-ad3a-4f43-b19f-649718c7ecc4 button.colab-df-convert');\n",
              "      buttonEl.style.display =\n",
              "        google.colab.kernel.accessAllowed ? 'block' : 'none';\n",
              "\n",
              "      async function convertToInteractive(key) {\n",
              "        const element = document.querySelector('#df-b71142e2-ad3a-4f43-b19f-649718c7ecc4');\n",
              "        const dataTable =\n",
              "          await google.colab.kernel.invokeFunction('convertToInteractive',\n",
              "                                                    [key], {});\n",
              "        if (!dataTable) return;\n",
              "\n",
              "        const docLinkHtml = 'Like what you see? Visit the ' +\n",
              "          '<a target=\"_blank\" href=https://colab.research.google.com/notebooks/data_table.ipynb>data table notebook</a>'\n",
              "          + ' to learn more about interactive tables.';\n",
              "        element.innerHTML = '';\n",
              "        dataTable['output_type'] = 'display_data';\n",
              "        await google.colab.output.renderOutput(dataTable, element);\n",
              "        const docLink = document.createElement('div');\n",
              "        docLink.innerHTML = docLinkHtml;\n",
              "        element.appendChild(docLink);\n",
              "      }\n",
              "    </script>\n",
              "  </div>\n",
              "\n",
              "\n",
              "<div id=\"df-d40538ae-a5d3-4305-9044-c4f2cd296f03\">\n",
              "  <button class=\"colab-df-quickchart\" onclick=\"quickchart('df-d40538ae-a5d3-4305-9044-c4f2cd296f03')\"\n",
              "            title=\"Suggest charts\"\n",
              "            style=\"display:none;\">\n",
              "\n",
              "<svg xmlns=\"http://www.w3.org/2000/svg\" height=\"24px\"viewBox=\"0 0 24 24\"\n",
              "     width=\"24px\">\n",
              "    <g>\n",
              "        <path d=\"M19 3H5c-1.1 0-2 .9-2 2v14c0 1.1.9 2 2 2h14c1.1 0 2-.9 2-2V5c0-1.1-.9-2-2-2zM9 17H7v-7h2v7zm4 0h-2V7h2v10zm4 0h-2v-4h2v4z\"/>\n",
              "    </g>\n",
              "</svg>\n",
              "  </button>\n",
              "\n",
              "<style>\n",
              "  .colab-df-quickchart {\n",
              "      --bg-color: #E8F0FE;\n",
              "      --fill-color: #1967D2;\n",
              "      --hover-bg-color: #E2EBFA;\n",
              "      --hover-fill-color: #174EA6;\n",
              "      --disabled-fill-color: #AAA;\n",
              "      --disabled-bg-color: #DDD;\n",
              "  }\n",
              "\n",
              "  [theme=dark] .colab-df-quickchart {\n",
              "      --bg-color: #3B4455;\n",
              "      --fill-color: #D2E3FC;\n",
              "      --hover-bg-color: #434B5C;\n",
              "      --hover-fill-color: #FFFFFF;\n",
              "      --disabled-bg-color: #3B4455;\n",
              "      --disabled-fill-color: #666;\n",
              "  }\n",
              "\n",
              "  .colab-df-quickchart {\n",
              "    background-color: var(--bg-color);\n",
              "    border: none;\n",
              "    border-radius: 50%;\n",
              "    cursor: pointer;\n",
              "    display: none;\n",
              "    fill: var(--fill-color);\n",
              "    height: 32px;\n",
              "    padding: 0;\n",
              "    width: 32px;\n",
              "  }\n",
              "\n",
              "  .colab-df-quickchart:hover {\n",
              "    background-color: var(--hover-bg-color);\n",
              "    box-shadow: 0 1px 2px rgba(60, 64, 67, 0.3), 0 1px 3px 1px rgba(60, 64, 67, 0.15);\n",
              "    fill: var(--button-hover-fill-color);\n",
              "  }\n",
              "\n",
              "  .colab-df-quickchart-complete:disabled,\n",
              "  .colab-df-quickchart-complete:disabled:hover {\n",
              "    background-color: var(--disabled-bg-color);\n",
              "    fill: var(--disabled-fill-color);\n",
              "    box-shadow: none;\n",
              "  }\n",
              "\n",
              "  .colab-df-spinner {\n",
              "    border: 2px solid var(--fill-color);\n",
              "    border-color: transparent;\n",
              "    border-bottom-color: var(--fill-color);\n",
              "    animation:\n",
              "      spin 1s steps(1) infinite;\n",
              "  }\n",
              "\n",
              "  @keyframes spin {\n",
              "    0% {\n",
              "      border-color: transparent;\n",
              "      border-bottom-color: var(--fill-color);\n",
              "      border-left-color: var(--fill-color);\n",
              "    }\n",
              "    20% {\n",
              "      border-color: transparent;\n",
              "      border-left-color: var(--fill-color);\n",
              "      border-top-color: var(--fill-color);\n",
              "    }\n",
              "    30% {\n",
              "      border-color: transparent;\n",
              "      border-left-color: var(--fill-color);\n",
              "      border-top-color: var(--fill-color);\n",
              "      border-right-color: var(--fill-color);\n",
              "    }\n",
              "    40% {\n",
              "      border-color: transparent;\n",
              "      border-right-color: var(--fill-color);\n",
              "      border-top-color: var(--fill-color);\n",
              "    }\n",
              "    60% {\n",
              "      border-color: transparent;\n",
              "      border-right-color: var(--fill-color);\n",
              "    }\n",
              "    80% {\n",
              "      border-color: transparent;\n",
              "      border-right-color: var(--fill-color);\n",
              "      border-bottom-color: var(--fill-color);\n",
              "    }\n",
              "    90% {\n",
              "      border-color: transparent;\n",
              "      border-bottom-color: var(--fill-color);\n",
              "    }\n",
              "  }\n",
              "</style>\n",
              "\n",
              "  <script>\n",
              "    async function quickchart(key) {\n",
              "      const quickchartButtonEl =\n",
              "        document.querySelector('#' + key + ' button');\n",
              "      quickchartButtonEl.disabled = true;  // To prevent multiple clicks.\n",
              "      quickchartButtonEl.classList.add('colab-df-spinner');\n",
              "      try {\n",
              "        const charts = await google.colab.kernel.invokeFunction(\n",
              "            'suggestCharts', [key], {});\n",
              "      } catch (error) {\n",
              "        console.error('Error during call to suggestCharts:', error);\n",
              "      }\n",
              "      quickchartButtonEl.classList.remove('colab-df-spinner');\n",
              "      quickchartButtonEl.classList.add('colab-df-quickchart-complete');\n",
              "    }\n",
              "    (() => {\n",
              "      let quickchartButtonEl =\n",
              "        document.querySelector('#df-d40538ae-a5d3-4305-9044-c4f2cd296f03 button');\n",
              "      quickchartButtonEl.style.display =\n",
              "        google.colab.kernel.accessAllowed ? 'block' : 'none';\n",
              "    })();\n",
              "  </script>\n",
              "</div>\n",
              "    </div>\n",
              "  </div>\n"
            ],
            "application/vnd.google.colaboratory.intrinsic+json": {
              "type": "dataframe",
              "summary": "{\n  \"name\": \"df\",\n  \"rows\": 8,\n  \"fields\": [\n    {\n      \"column\": \"age\",\n      \"properties\": {\n        \"dtype\": \"number\",\n        \"std\": 92.24634585738892,\n        \"min\": 9.047969746247457,\n        \"max\": 302.0,\n        \"num_unique_values\": 8,\n        \"samples\": [\n          54.420529801324506,\n          55.5,\n          302.0\n        ],\n        \"semantic_type\": \"\",\n        \"description\": \"\"\n      }\n    },\n    {\n      \"column\": \"sex\",\n      \"properties\": {\n        \"dtype\": \"number\",\n        \"std\": 106.56441136917542,\n        \"min\": 0.0,\n        \"max\": 302.0,\n        \"num_unique_values\": 5,\n        \"samples\": [\n          0.6821192052980133,\n          1.0,\n          0.46642573806726434\n        ],\n        \"semantic_type\": \"\",\n        \"description\": \"\"\n      }\n    },\n    {\n      \"column\": \"cp\",\n      \"properties\": {\n        \"dtype\": \"number\",\n        \"std\": 106.373891168386,\n        \"min\": 0.0,\n        \"max\": 302.0,\n        \"num_unique_values\": 7,\n        \"samples\": [\n          302.0,\n          0.9635761589403974,\n          2.0\n        ],\n        \"semantic_type\": \"\",\n        \"description\": \"\"\n      }\n    },\n    {\n      \"column\": \"trestbps\",\n      \"properties\": {\n        \"dtype\": \"number\",\n        \"std\": 82.36893210059166,\n        \"min\": 17.56339423003756,\n        \"max\": 302.0,\n        \"num_unique_values\": 8,\n        \"samples\": [\n          131.60264900662253,\n          130.0,\n          302.0\n        ],\n        \"semantic_type\": \"\",\n        \"description\": \"\"\n      }\n    },\n    {\n      \"column\": \"chol\",\n      \"properties\": {\n        \"dtype\": \"number\",\n        \"std\": 150.32331637314442,\n        \"min\": 51.75348865574056,\n        \"max\": 564.0,\n        \"num_unique_values\": 8,\n        \"samples\": [\n          246.5,\n          240.5,\n          302.0\n        ],\n        \"semantic_type\": \"\",\n        \"description\": \"\"\n      }\n    },\n    {\n      \"column\": \"fbs\",\n      \"properties\": {\n        \"dtype\": \"number\",\n        \"std\": 106.69762766400386,\n        \"min\": 0.0,\n        \"max\": 302.0,\n        \"num_unique_values\": 5,\n        \"samples\": [\n          0.1490066225165563,\n          1.0,\n          0.3566860293648133\n        ],\n        \"semantic_type\": \"\",\n        \"description\": \"\"\n      }\n    },\n    {\n      \"column\": \"restecg\",\n      \"properties\": {\n        \"dtype\": \"number\",\n        \"std\": 106.51988268714389,\n        \"min\": 0.0,\n        \"max\": 302.0,\n        \"num_unique_values\": 6,\n        \"samples\": [\n          302.0,\n          0.5264900662251656,\n          2.0\n        ],\n        \"semantic_type\": \"\",\n        \"description\": \"\"\n      }\n    },\n    {\n      \"column\": \"thalach\",\n      \"properties\": {\n        \"dtype\": \"number\",\n        \"std\": 83.448389293815,\n        \"min\": 22.903527251969845,\n        \"max\": 302.0,\n        \"num_unique_values\": 8,\n        \"samples\": [\n          149.56953642384107,\n          152.5,\n          302.0\n        ],\n        \"semantic_type\": \"\",\n        \"description\": \"\"\n      }\n    },\n    {\n      \"column\": \"exang\",\n      \"properties\": {\n        \"dtype\": \"number\",\n        \"std\": 106.63261370805945,\n        \"min\": 0.0,\n        \"max\": 302.0,\n        \"num_unique_values\": 5,\n        \"samples\": [\n          0.32781456953642385,\n          1.0,\n          0.47019596400976954\n        ],\n        \"semantic_type\": \"\",\n        \"description\": \"\"\n      }\n    },\n    {\n      \"column\": \"oldpeak\",\n      \"properties\": {\n        \"dtype\": \"number\",\n        \"std\": 106.2458369741905,\n        \"min\": 0.0,\n        \"max\": 302.0,\n        \"num_unique_values\": 7,\n        \"samples\": [\n          302.0,\n          1.0430463576158941,\n          1.6\n        ],\n        \"semantic_type\": \"\",\n        \"description\": \"\"\n      }\n    },\n    {\n      \"column\": \"slope\",\n      \"properties\": {\n        \"dtype\": \"number\",\n        \"std\": 106.37049565715138,\n        \"min\": 0.0,\n        \"max\": 302.0,\n        \"num_unique_values\": 6,\n        \"samples\": [\n          302.0,\n          1.3973509933774835,\n          2.0\n        ],\n        \"semantic_type\": \"\",\n        \"description\": \"\"\n      }\n    },\n    {\n      \"column\": \"ca\",\n      \"properties\": {\n        \"dtype\": \"number\",\n        \"std\": 106.44154442680605,\n        \"min\": 0.0,\n        \"max\": 302.0,\n        \"num_unique_values\": 6,\n        \"samples\": [\n          302.0,\n          0.7185430463576159,\n          4.0\n        ],\n        \"semantic_type\": \"\",\n        \"description\": \"\"\n      }\n    },\n    {\n      \"column\": \"thal\",\n      \"properties\": {\n        \"dtype\": \"number\",\n        \"std\": 106.12547106736513,\n        \"min\": 0.0,\n        \"max\": 302.0,\n        \"num_unique_values\": 6,\n        \"samples\": [\n          302.0,\n          2.314569536423841,\n          3.0\n        ],\n        \"semantic_type\": \"\",\n        \"description\": \"\"\n      }\n    },\n    {\n      \"column\": \"target\",\n      \"properties\": {\n        \"dtype\": \"number\",\n        \"std\": 106.56978221617638,\n        \"min\": 0.0,\n        \"max\": 302.0,\n        \"num_unique_values\": 5,\n        \"samples\": [\n          0.543046357615894,\n          1.0,\n          0.49897035961141234\n        ],\n        \"semantic_type\": \"\",\n        \"description\": \"\"\n      }\n    }\n  ]\n}"
            }
          },
          "metadata": {},
          "execution_count": 60
        }
      ]
    },
    {
      "cell_type": "code",
      "source": [
        "# Dataset Size\n",
        "df.shape"
      ],
      "metadata": {
        "colab": {
          "base_uri": "https://localhost:8080/"
        },
        "id": "AsMk9QuHx8BY",
        "outputId": "3f4db1f0-a8ba-46b5-99c9-bb19a4c78707"
      },
      "execution_count": 61,
      "outputs": [
        {
          "output_type": "execute_result",
          "data": {
            "text/plain": [
              "(302, 14)"
            ]
          },
          "metadata": {},
          "execution_count": 61
        }
      ]
    },
    {
      "cell_type": "code",
      "source": [
        "# Type of variables\n",
        "df.info()"
      ],
      "metadata": {
        "colab": {
          "base_uri": "https://localhost:8080/"
        },
        "id": "__Ax1uCRyL-K",
        "outputId": "5bdaf4f5-f773-419d-984f-423c4d39628a"
      },
      "execution_count": 62,
      "outputs": [
        {
          "output_type": "stream",
          "name": "stdout",
          "text": [
            "<class 'pandas.core.frame.DataFrame'>\n",
            "RangeIndex: 302 entries, 0 to 301\n",
            "Data columns (total 14 columns):\n",
            " #   Column    Non-Null Count  Dtype  \n",
            "---  ------    --------------  -----  \n",
            " 0   age       302 non-null    int64  \n",
            " 1   sex       302 non-null    int64  \n",
            " 2   cp        302 non-null    int64  \n",
            " 3   trestbps  302 non-null    int64  \n",
            " 4   chol      302 non-null    int64  \n",
            " 5   fbs       302 non-null    int64  \n",
            " 6   restecg   302 non-null    int64  \n",
            " 7   thalach   302 non-null    int64  \n",
            " 8   exang     302 non-null    int64  \n",
            " 9   oldpeak   302 non-null    float64\n",
            " 10  slope     302 non-null    int64  \n",
            " 11  ca        302 non-null    int64  \n",
            " 12  thal      302 non-null    int64  \n",
            " 13  target    302 non-null    int64  \n",
            "dtypes: float64(1), int64(13)\n",
            "memory usage: 33.2 KB\n"
          ]
        }
      ]
    },
    {
      "cell_type": "markdown",
      "source": [
        "# **Model: Random Forest Classifier**"
      ],
      "metadata": {
        "id": "BKhEB2yDQX73"
      }
    },
    {
      "cell_type": "code",
      "source": [
        "# Variables for the model\n",
        "\n",
        "features = ['age','sex', 'trestbps',\n",
        "            'chol', 'fbs', 'restecg',\n",
        "            'thalach', 'exang','oldpeak','slope','ca','thal']\n",
        "\n",
        "y = df['target'].copy()\n",
        "X = df[features].copy()\n",
        "\n",
        "\n",
        "print('Features Matrix (below):')\n",
        "X.head()"
      ],
      "metadata": {
        "colab": {
          "base_uri": "https://localhost:8080/",
          "height": 224
        },
        "id": "scOtFDd2edLt",
        "outputId": "2accf508-6b65-4ea4-9e41-b3fdfca9a105"
      },
      "execution_count": 63,
      "outputs": [
        {
          "output_type": "stream",
          "name": "stdout",
          "text": [
            "Features Matrix (below):\n"
          ]
        },
        {
          "output_type": "execute_result",
          "data": {
            "text/plain": [
              "   age  sex  trestbps  chol  fbs  restecg  thalach  exang  oldpeak  slope  ca  \\\n",
              "0   52    1       125   212    0        1      168      0      1.0      2   2   \n",
              "1   53    1       140   203    1        0      155      1      3.1      0   0   \n",
              "2   70    1       145   174    0        1      125      1      2.6      0   0   \n",
              "3   61    1       148   203    0        1      161      0      0.0      2   1   \n",
              "4   62    0       138   294    1        1      106      0      1.9      1   3   \n",
              "\n",
              "   thal  \n",
              "0     3  \n",
              "1     3  \n",
              "2     3  \n",
              "3     3  \n",
              "4     2  "
            ],
            "text/html": [
              "\n",
              "  <div id=\"df-bd563df4-0bad-4dde-a156-b345447cc69c\" class=\"colab-df-container\">\n",
              "    <div>\n",
              "<style scoped>\n",
              "    .dataframe tbody tr th:only-of-type {\n",
              "        vertical-align: middle;\n",
              "    }\n",
              "\n",
              "    .dataframe tbody tr th {\n",
              "        vertical-align: top;\n",
              "    }\n",
              "\n",
              "    .dataframe thead th {\n",
              "        text-align: right;\n",
              "    }\n",
              "</style>\n",
              "<table border=\"1\" class=\"dataframe\">\n",
              "  <thead>\n",
              "    <tr style=\"text-align: right;\">\n",
              "      <th></th>\n",
              "      <th>age</th>\n",
              "      <th>sex</th>\n",
              "      <th>trestbps</th>\n",
              "      <th>chol</th>\n",
              "      <th>fbs</th>\n",
              "      <th>restecg</th>\n",
              "      <th>thalach</th>\n",
              "      <th>exang</th>\n",
              "      <th>oldpeak</th>\n",
              "      <th>slope</th>\n",
              "      <th>ca</th>\n",
              "      <th>thal</th>\n",
              "    </tr>\n",
              "  </thead>\n",
              "  <tbody>\n",
              "    <tr>\n",
              "      <th>0</th>\n",
              "      <td>52</td>\n",
              "      <td>1</td>\n",
              "      <td>125</td>\n",
              "      <td>212</td>\n",
              "      <td>0</td>\n",
              "      <td>1</td>\n",
              "      <td>168</td>\n",
              "      <td>0</td>\n",
              "      <td>1.0</td>\n",
              "      <td>2</td>\n",
              "      <td>2</td>\n",
              "      <td>3</td>\n",
              "    </tr>\n",
              "    <tr>\n",
              "      <th>1</th>\n",
              "      <td>53</td>\n",
              "      <td>1</td>\n",
              "      <td>140</td>\n",
              "      <td>203</td>\n",
              "      <td>1</td>\n",
              "      <td>0</td>\n",
              "      <td>155</td>\n",
              "      <td>1</td>\n",
              "      <td>3.1</td>\n",
              "      <td>0</td>\n",
              "      <td>0</td>\n",
              "      <td>3</td>\n",
              "    </tr>\n",
              "    <tr>\n",
              "      <th>2</th>\n",
              "      <td>70</td>\n",
              "      <td>1</td>\n",
              "      <td>145</td>\n",
              "      <td>174</td>\n",
              "      <td>0</td>\n",
              "      <td>1</td>\n",
              "      <td>125</td>\n",
              "      <td>1</td>\n",
              "      <td>2.6</td>\n",
              "      <td>0</td>\n",
              "      <td>0</td>\n",
              "      <td>3</td>\n",
              "    </tr>\n",
              "    <tr>\n",
              "      <th>3</th>\n",
              "      <td>61</td>\n",
              "      <td>1</td>\n",
              "      <td>148</td>\n",
              "      <td>203</td>\n",
              "      <td>0</td>\n",
              "      <td>1</td>\n",
              "      <td>161</td>\n",
              "      <td>0</td>\n",
              "      <td>0.0</td>\n",
              "      <td>2</td>\n",
              "      <td>1</td>\n",
              "      <td>3</td>\n",
              "    </tr>\n",
              "    <tr>\n",
              "      <th>4</th>\n",
              "      <td>62</td>\n",
              "      <td>0</td>\n",
              "      <td>138</td>\n",
              "      <td>294</td>\n",
              "      <td>1</td>\n",
              "      <td>1</td>\n",
              "      <td>106</td>\n",
              "      <td>0</td>\n",
              "      <td>1.9</td>\n",
              "      <td>1</td>\n",
              "      <td>3</td>\n",
              "      <td>2</td>\n",
              "    </tr>\n",
              "  </tbody>\n",
              "</table>\n",
              "</div>\n",
              "    <div class=\"colab-df-buttons\">\n",
              "\n",
              "  <div class=\"colab-df-container\">\n",
              "    <button class=\"colab-df-convert\" onclick=\"convertToInteractive('df-bd563df4-0bad-4dde-a156-b345447cc69c')\"\n",
              "            title=\"Convert this dataframe to an interactive table.\"\n",
              "            style=\"display:none;\">\n",
              "\n",
              "  <svg xmlns=\"http://www.w3.org/2000/svg\" height=\"24px\" viewBox=\"0 -960 960 960\">\n",
              "    <path d=\"M120-120v-720h720v720H120Zm60-500h600v-160H180v160Zm220 220h160v-160H400v160Zm0 220h160v-160H400v160ZM180-400h160v-160H180v160Zm440 0h160v-160H620v160ZM180-180h160v-160H180v160Zm440 0h160v-160H620v160Z\"/>\n",
              "  </svg>\n",
              "    </button>\n",
              "\n",
              "  <style>\n",
              "    .colab-df-container {\n",
              "      display:flex;\n",
              "      gap: 12px;\n",
              "    }\n",
              "\n",
              "    .colab-df-convert {\n",
              "      background-color: #E8F0FE;\n",
              "      border: none;\n",
              "      border-radius: 50%;\n",
              "      cursor: pointer;\n",
              "      display: none;\n",
              "      fill: #1967D2;\n",
              "      height: 32px;\n",
              "      padding: 0 0 0 0;\n",
              "      width: 32px;\n",
              "    }\n",
              "\n",
              "    .colab-df-convert:hover {\n",
              "      background-color: #E2EBFA;\n",
              "      box-shadow: 0px 1px 2px rgba(60, 64, 67, 0.3), 0px 1px 3px 1px rgba(60, 64, 67, 0.15);\n",
              "      fill: #174EA6;\n",
              "    }\n",
              "\n",
              "    .colab-df-buttons div {\n",
              "      margin-bottom: 4px;\n",
              "    }\n",
              "\n",
              "    [theme=dark] .colab-df-convert {\n",
              "      background-color: #3B4455;\n",
              "      fill: #D2E3FC;\n",
              "    }\n",
              "\n",
              "    [theme=dark] .colab-df-convert:hover {\n",
              "      background-color: #434B5C;\n",
              "      box-shadow: 0px 1px 3px 1px rgba(0, 0, 0, 0.15);\n",
              "      filter: drop-shadow(0px 1px 2px rgba(0, 0, 0, 0.3));\n",
              "      fill: #FFFFFF;\n",
              "    }\n",
              "  </style>\n",
              "\n",
              "    <script>\n",
              "      const buttonEl =\n",
              "        document.querySelector('#df-bd563df4-0bad-4dde-a156-b345447cc69c button.colab-df-convert');\n",
              "      buttonEl.style.display =\n",
              "        google.colab.kernel.accessAllowed ? 'block' : 'none';\n",
              "\n",
              "      async function convertToInteractive(key) {\n",
              "        const element = document.querySelector('#df-bd563df4-0bad-4dde-a156-b345447cc69c');\n",
              "        const dataTable =\n",
              "          await google.colab.kernel.invokeFunction('convertToInteractive',\n",
              "                                                    [key], {});\n",
              "        if (!dataTable) return;\n",
              "\n",
              "        const docLinkHtml = 'Like what you see? Visit the ' +\n",
              "          '<a target=\"_blank\" href=https://colab.research.google.com/notebooks/data_table.ipynb>data table notebook</a>'\n",
              "          + ' to learn more about interactive tables.';\n",
              "        element.innerHTML = '';\n",
              "        dataTable['output_type'] = 'display_data';\n",
              "        await google.colab.output.renderOutput(dataTable, element);\n",
              "        const docLink = document.createElement('div');\n",
              "        docLink.innerHTML = docLinkHtml;\n",
              "        element.appendChild(docLink);\n",
              "      }\n",
              "    </script>\n",
              "  </div>\n",
              "\n",
              "\n",
              "<div id=\"df-f30efd9f-02ed-42db-bf0a-bd7d4b694d06\">\n",
              "  <button class=\"colab-df-quickchart\" onclick=\"quickchart('df-f30efd9f-02ed-42db-bf0a-bd7d4b694d06')\"\n",
              "            title=\"Suggest charts\"\n",
              "            style=\"display:none;\">\n",
              "\n",
              "<svg xmlns=\"http://www.w3.org/2000/svg\" height=\"24px\"viewBox=\"0 0 24 24\"\n",
              "     width=\"24px\">\n",
              "    <g>\n",
              "        <path d=\"M19 3H5c-1.1 0-2 .9-2 2v14c0 1.1.9 2 2 2h14c1.1 0 2-.9 2-2V5c0-1.1-.9-2-2-2zM9 17H7v-7h2v7zm4 0h-2V7h2v10zm4 0h-2v-4h2v4z\"/>\n",
              "    </g>\n",
              "</svg>\n",
              "  </button>\n",
              "\n",
              "<style>\n",
              "  .colab-df-quickchart {\n",
              "      --bg-color: #E8F0FE;\n",
              "      --fill-color: #1967D2;\n",
              "      --hover-bg-color: #E2EBFA;\n",
              "      --hover-fill-color: #174EA6;\n",
              "      --disabled-fill-color: #AAA;\n",
              "      --disabled-bg-color: #DDD;\n",
              "  }\n",
              "\n",
              "  [theme=dark] .colab-df-quickchart {\n",
              "      --bg-color: #3B4455;\n",
              "      --fill-color: #D2E3FC;\n",
              "      --hover-bg-color: #434B5C;\n",
              "      --hover-fill-color: #FFFFFF;\n",
              "      --disabled-bg-color: #3B4455;\n",
              "      --disabled-fill-color: #666;\n",
              "  }\n",
              "\n",
              "  .colab-df-quickchart {\n",
              "    background-color: var(--bg-color);\n",
              "    border: none;\n",
              "    border-radius: 50%;\n",
              "    cursor: pointer;\n",
              "    display: none;\n",
              "    fill: var(--fill-color);\n",
              "    height: 32px;\n",
              "    padding: 0;\n",
              "    width: 32px;\n",
              "  }\n",
              "\n",
              "  .colab-df-quickchart:hover {\n",
              "    background-color: var(--hover-bg-color);\n",
              "    box-shadow: 0 1px 2px rgba(60, 64, 67, 0.3), 0 1px 3px 1px rgba(60, 64, 67, 0.15);\n",
              "    fill: var(--button-hover-fill-color);\n",
              "  }\n",
              "\n",
              "  .colab-df-quickchart-complete:disabled,\n",
              "  .colab-df-quickchart-complete:disabled:hover {\n",
              "    background-color: var(--disabled-bg-color);\n",
              "    fill: var(--disabled-fill-color);\n",
              "    box-shadow: none;\n",
              "  }\n",
              "\n",
              "  .colab-df-spinner {\n",
              "    border: 2px solid var(--fill-color);\n",
              "    border-color: transparent;\n",
              "    border-bottom-color: var(--fill-color);\n",
              "    animation:\n",
              "      spin 1s steps(1) infinite;\n",
              "  }\n",
              "\n",
              "  @keyframes spin {\n",
              "    0% {\n",
              "      border-color: transparent;\n",
              "      border-bottom-color: var(--fill-color);\n",
              "      border-left-color: var(--fill-color);\n",
              "    }\n",
              "    20% {\n",
              "      border-color: transparent;\n",
              "      border-left-color: var(--fill-color);\n",
              "      border-top-color: var(--fill-color);\n",
              "    }\n",
              "    30% {\n",
              "      border-color: transparent;\n",
              "      border-left-color: var(--fill-color);\n",
              "      border-top-color: var(--fill-color);\n",
              "      border-right-color: var(--fill-color);\n",
              "    }\n",
              "    40% {\n",
              "      border-color: transparent;\n",
              "      border-right-color: var(--fill-color);\n",
              "      border-top-color: var(--fill-color);\n",
              "    }\n",
              "    60% {\n",
              "      border-color: transparent;\n",
              "      border-right-color: var(--fill-color);\n",
              "    }\n",
              "    80% {\n",
              "      border-color: transparent;\n",
              "      border-right-color: var(--fill-color);\n",
              "      border-bottom-color: var(--fill-color);\n",
              "    }\n",
              "    90% {\n",
              "      border-color: transparent;\n",
              "      border-bottom-color: var(--fill-color);\n",
              "    }\n",
              "  }\n",
              "</style>\n",
              "\n",
              "  <script>\n",
              "    async function quickchart(key) {\n",
              "      const quickchartButtonEl =\n",
              "        document.querySelector('#' + key + ' button');\n",
              "      quickchartButtonEl.disabled = true;  // To prevent multiple clicks.\n",
              "      quickchartButtonEl.classList.add('colab-df-spinner');\n",
              "      try {\n",
              "        const charts = await google.colab.kernel.invokeFunction(\n",
              "            'suggestCharts', [key], {});\n",
              "      } catch (error) {\n",
              "        console.error('Error during call to suggestCharts:', error);\n",
              "      }\n",
              "      quickchartButtonEl.classList.remove('colab-df-spinner');\n",
              "      quickchartButtonEl.classList.add('colab-df-quickchart-complete');\n",
              "    }\n",
              "    (() => {\n",
              "      let quickchartButtonEl =\n",
              "        document.querySelector('#df-f30efd9f-02ed-42db-bf0a-bd7d4b694d06 button');\n",
              "      quickchartButtonEl.style.display =\n",
              "        google.colab.kernel.accessAllowed ? 'block' : 'none';\n",
              "    })();\n",
              "  </script>\n",
              "</div>\n",
              "    </div>\n",
              "  </div>\n"
            ],
            "application/vnd.google.colaboratory.intrinsic+json": {
              "type": "dataframe",
              "variable_name": "X",
              "summary": "{\n  \"name\": \"X\",\n  \"rows\": 302,\n  \"fields\": [\n    {\n      \"column\": \"age\",\n      \"properties\": {\n        \"dtype\": \"number\",\n        \"std\": 9,\n        \"min\": 29,\n        \"max\": 77,\n        \"num_unique_values\": 41,\n        \"samples\": [\n          65,\n          50,\n          54\n        ],\n        \"semantic_type\": \"\",\n        \"description\": \"\"\n      }\n    },\n    {\n      \"column\": \"sex\",\n      \"properties\": {\n        \"dtype\": \"number\",\n        \"std\": 0,\n        \"min\": 0,\n        \"max\": 1,\n        \"num_unique_values\": 2,\n        \"samples\": [\n          0,\n          1\n        ],\n        \"semantic_type\": \"\",\n        \"description\": \"\"\n      }\n    },\n    {\n      \"column\": \"trestbps\",\n      \"properties\": {\n        \"dtype\": \"number\",\n        \"std\": 17,\n        \"min\": 94,\n        \"max\": 200,\n        \"num_unique_values\": 49,\n        \"samples\": [\n          128,\n          172\n        ],\n        \"semantic_type\": \"\",\n        \"description\": \"\"\n      }\n    },\n    {\n      \"column\": \"chol\",\n      \"properties\": {\n        \"dtype\": \"number\",\n        \"std\": 51,\n        \"min\": 126,\n        \"max\": 564,\n        \"num_unique_values\": 152,\n        \"samples\": [\n          267,\n          262\n        ],\n        \"semantic_type\": \"\",\n        \"description\": \"\"\n      }\n    },\n    {\n      \"column\": \"fbs\",\n      \"properties\": {\n        \"dtype\": \"number\",\n        \"std\": 0,\n        \"min\": 0,\n        \"max\": 1,\n        \"num_unique_values\": 2,\n        \"samples\": [\n          1,\n          0\n        ],\n        \"semantic_type\": \"\",\n        \"description\": \"\"\n      }\n    },\n    {\n      \"column\": \"restecg\",\n      \"properties\": {\n        \"dtype\": \"number\",\n        \"std\": 0,\n        \"min\": 0,\n        \"max\": 2,\n        \"num_unique_values\": 3,\n        \"samples\": [\n          1,\n          0\n        ],\n        \"semantic_type\": \"\",\n        \"description\": \"\"\n      }\n    },\n    {\n      \"column\": \"thalach\",\n      \"properties\": {\n        \"dtype\": \"number\",\n        \"std\": 22,\n        \"min\": 71,\n        \"max\": 202,\n        \"num_unique_values\": 91,\n        \"samples\": [\n          180,\n          152\n        ],\n        \"semantic_type\": \"\",\n        \"description\": \"\"\n      }\n    },\n    {\n      \"column\": \"exang\",\n      \"properties\": {\n        \"dtype\": \"number\",\n        \"std\": 0,\n        \"min\": 0,\n        \"max\": 1,\n        \"num_unique_values\": 2,\n        \"samples\": [\n          1,\n          0\n        ],\n        \"semantic_type\": \"\",\n        \"description\": \"\"\n      }\n    },\n    {\n      \"column\": \"oldpeak\",\n      \"properties\": {\n        \"dtype\": \"number\",\n        \"std\": 1.1614522890634562,\n        \"min\": 0.0,\n        \"max\": 6.2,\n        \"num_unique_values\": 40,\n        \"samples\": [\n          2.8,\n          0.4\n        ],\n        \"semantic_type\": \"\",\n        \"description\": \"\"\n      }\n    },\n    {\n      \"column\": \"slope\",\n      \"properties\": {\n        \"dtype\": \"number\",\n        \"std\": 0,\n        \"min\": 0,\n        \"max\": 2,\n        \"num_unique_values\": 3,\n        \"samples\": [\n          2,\n          0\n        ],\n        \"semantic_type\": \"\",\n        \"description\": \"\"\n      }\n    },\n    {\n      \"column\": \"ca\",\n      \"properties\": {\n        \"dtype\": \"number\",\n        \"std\": 1,\n        \"min\": 0,\n        \"max\": 4,\n        \"num_unique_values\": 5,\n        \"samples\": [\n          0,\n          4\n        ],\n        \"semantic_type\": \"\",\n        \"description\": \"\"\n      }\n    },\n    {\n      \"column\": \"thal\",\n      \"properties\": {\n        \"dtype\": \"number\",\n        \"std\": 0,\n        \"min\": 0,\n        \"max\": 3,\n        \"num_unique_values\": 4,\n        \"samples\": [\n          2,\n          0\n        ],\n        \"semantic_type\": \"\",\n        \"description\": \"\"\n      }\n    }\n  ]\n}"
            }
          },
          "metadata": {},
          "execution_count": 63
        }
      ]
    },
    {
      "cell_type": "code",
      "source": [
        "# Generating group variables using sex variable\n",
        "X['groups'] = np.where(X['sex'] == 1, 1, 0)"
      ],
      "metadata": {
        "id": "MJpBkmuRehWL"
      },
      "execution_count": 64,
      "outputs": []
    },
    {
      "cell_type": "code",
      "source": [
        "# Splitting the dataset into training and testing sets\n",
        "X_train, X_test, y_train, y_test = train_test_split(X, y, test_size=0.2, random_state=12345)"
      ],
      "metadata": {
        "id": "N8a-Q7SVaak8"
      },
      "execution_count": 65,
      "outputs": []
    },
    {
      "cell_type": "code",
      "source": [
        "# Fitting a Random Forest Classifier to the training data\n",
        "clf = RandomForestClassifier(random_state = 1000)\n",
        "clf.fit(X_train, y_train)\n",
        "\n",
        "# Making predictions on the testing set\n",
        "y_hat = clf.predict(X_test)"
      ],
      "metadata": {
        "id": "k32xYAMJadMX"
      },
      "execution_count": 66,
      "outputs": []
    },
    {
      "cell_type": "markdown",
      "source": [
        "**Computing Metrics**"
      ],
      "metadata": {
        "id": "ZHCn-3f6Y1Pz"
      }
    },
    {
      "cell_type": "code",
      "source": [
        "def compute_metrics(y_hat, y_test, X_test):\n",
        "    # Creating a copy of the testing data with predicted outcomes\n",
        "    test = X_test.copy()\n",
        "    test['outcome'] = y_test\n",
        "    test['predicted'] = y_hat\n",
        "\n",
        "    # Calculating true positives, false positives, true negatives, and false negatives for each group\n",
        "    # Group 0 (Female)\n",
        "    TP_0 = ((test['predicted'] == 1) & (test['outcome'] == 1) & (test['groups'] == 0)).sum()\n",
        "    FP_0 = ((test['predicted'] == 1) & (test['outcome'] == 0) & (test['groups'] == 0)).sum()\n",
        "    TN_0 = ((test['predicted'] == 0) & (test['outcome'] == 0) & (test['groups'] == 0)).sum()\n",
        "    FN_0 = ((test['predicted'] == 0) & (test['outcome'] == 1) & (test['groups'] == 0)).sum()\n",
        "\n",
        "    # Group 1 (Male)\n",
        "    TP_1 = ((test['predicted'] == 1) & (test['outcome'] == 1) & (test['groups'] == 1)).sum()\n",
        "    FP_1 = ((test['predicted'] == 1) & (test['outcome'] == 0) & (test['groups'] == 1)).sum()\n",
        "    TN_1 = ((test['predicted'] == 0) & (test['outcome'] == 0) & (test['groups'] == 1)).sum()\n",
        "    FN_1 = ((test['predicted'] == 0) & (test['outcome'] == 1) & (test['groups'] == 1)).sum()\n",
        "\n",
        "    # Computing accuracy, precision, recall, and false positive rate for each group\n",
        "    accuracy_g0 = (TP_0 + TN_0) / (TP_0 + FP_0 + TN_0 + FN_0)\n",
        "    precision_g0 = TP_0 / (TP_0 + FP_0) if (TP_0 + FP_0) > 0 else 0\n",
        "    recall_g0 = TP_0 / (TP_0 + FN_0) if (TP_0 + FN_0) > 0 else 0\n",
        "    false_positive_rate_g0 = FP_0 / (FP_0 + TN_0) if (FP_0 + TN_0) > 0 else 0\n",
        "\n",
        "    accuracy_g1 = (TP_1 + TN_1) / (TP_1 + FP_1 + TN_1 + FN_1)\n",
        "    precision_g1 = TP_1 / (TP_1 + FP_1) if (TP_1 + FP_1) > 0 else 0\n",
        "    recall_g1 = TP_1 / (TP_1 + FN_1) if (TP_1 + FN_1) > 0 else 0\n",
        "    false_positive_rate_g1 = FP_1 / (FP_1 + TN_1) if (FP_1 + TN_1) > 0 else 0\n",
        "\n",
        "    # Constructing a DataFrame to store the computed metrics\n",
        "    metrics_df = pd.DataFrame({\n",
        "        \"Group\": [\"Female\", \"Female\", \"Female\", \"Female\",\n",
        "                  \"Male\", \"Male\", \"Male\", \"Male\"],\n",
        "        \"Metric\": [\"Accuracy\", \"Precision\", \"Recall\", \"FPR\",\n",
        "                   \"Accuracy\", \"Precision\", \"Recall\", \"FPR\"],\n",
        "        \"Value\": [accuracy_g0, precision_g0, recall_g0, false_positive_rate_g0,\n",
        "                  accuracy_g1, precision_g1, recall_g1, false_positive_rate_g1]})\n",
        "\n",
        "    return metrics_df  # Returning the computed metrics DataFrame\n"
      ],
      "metadata": {
        "id": "auYCh6HYdvUt"
      },
      "execution_count": 67,
      "outputs": []
    },
    {
      "cell_type": "code",
      "source": [
        "# Calculating metrics using the compute_metrics function\n",
        "metrics_df = compute_metrics(y_hat=y_hat, y_test=y_test, X_test=X_test)\n",
        "\n",
        "# Printing the metrics DataFrame in a pivot format for better visualization\n",
        "print(metrics_df.pivot(index='Metric', columns='Group', values='Value'))"
      ],
      "metadata": {
        "colab": {
          "base_uri": "https://localhost:8080/"
        },
        "id": "UaPQKt1XgV04",
        "outputId": "e90fdcb8-eb93-4891-ba43-66996aa34630"
      },
      "execution_count": 68,
      "outputs": [
        {
          "output_type": "stream",
          "name": "stdout",
          "text": [
            "Group        Female      Male\n",
            "Metric                       \n",
            "Accuracy   0.888889  0.790698\n",
            "FPR        0.666667  0.307692\n",
            "Precision  0.882353  0.666667\n",
            "Recall     1.000000  0.941176\n"
          ]
        }
      ]
    },
    {
      "cell_type": "markdown",
      "source": [
        "\n",
        "The analysis of the model's performance in predicting heart attacks indicates significant discrepancies across gender groups. The accuracy rates are 88.89% for females and 79.07% for males, with notably high false positive rates of 66.67% for females and 30.77% for males. Moreover, there is a lower recall in the males group (vs. 100% in females). These findings highlight an understimation of heart attack risks, especially in males, suggesting biases in the model. This disparity underscores the necessity for model recalibration to ensure fair and accurate predictions across both genders, addressing the biases that currently favor one group over the other."
      ],
      "metadata": {
        "id": "RoP-6cE3ao9x"
      }
    },
    {
      "cell_type": "markdown",
      "source": [
        "# **Pre-processing for Bias Mitigation**"
      ],
      "metadata": {
        "id": "NN7nKu4Jaw_0"
      }
    },
    {
      "cell_type": "code",
      "source": [
        "# Creating a contingency table to analyze the relationship between 'sex' and 'target'\n",
        "contingency_table = pd.crosstab(df['sex'], df['target'])\n",
        "print(contingency_table)"
      ],
      "metadata": {
        "colab": {
          "base_uri": "https://localhost:8080/"
        },
        "id": "QodwhByulKLz",
        "outputId": "3c84490d-62d5-43a2-e22a-2be15e341d31"
      },
      "execution_count": 69,
      "outputs": [
        {
          "output_type": "stream",
          "name": "stdout",
          "text": [
            "target    0   1\n",
            "sex            \n",
            "0        24  72\n",
            "1       114  92\n"
          ]
        }
      ]
    },
    {
      "cell_type": "markdown",
      "source": [
        "\n",
        "The presented contingency table shows the distribution of a health condition (presence of heart disease:'target' variable) across gender groups. Females have a higher count of individuals with the condition, while males have a higher count without it, indicating potential bias in the model's predictions favoring females in identifying the condition. Further investigation is needed to address and mitigate this bias for fair predictions across genders."
      ],
      "metadata": {
        "id": "gCnRZm4MbKd-"
      }
    },
    {
      "cell_type": "markdown",
      "source": [
        "**Reweighting to correct sample bias**"
      ],
      "metadata": {
        "id": "ZpPpIw0UbSGw"
      }
    },
    {
      "cell_type": "markdown",
      "source": [
        "1. Gender Weighting"
      ],
      "metadata": {
        "id": "z9QeTy1XVmgV"
      }
    },
    {
      "cell_type": "markdown",
      "source": [
        "Addressing potential imbalances in training dataset by calculating and assigning weights to different gender groups based on their representation."
      ],
      "metadata": {
        "id": "PPUFv7TChx-z"
      }
    },
    {
      "cell_type": "code",
      "source": [
        "X_train_temp = X_train.copy()\n",
        "\n",
        "# Counting the occurrences of each group in the training data\n",
        "group_counts_gender = X_train_temp['groups'].value_counts()\n",
        "\n",
        "# Finding the count of the most represented group\n",
        "most_represented_group_count = group_counts_gender.max()"
      ],
      "metadata": {
        "id": "ivqYts2ZySiB"
      },
      "execution_count": 70,
      "outputs": []
    },
    {
      "cell_type": "code",
      "source": [
        "group_counts_gender"
      ],
      "metadata": {
        "colab": {
          "base_uri": "https://localhost:8080/"
        },
        "id": "mjoSmOidhPVd",
        "outputId": "3bebe773-0e56-4ac3-998a-d0832a0e9fdd"
      },
      "execution_count": 71,
      "outputs": [
        {
          "output_type": "execute_result",
          "data": {
            "text/plain": [
              "groups\n",
              "1    163\n",
              "0     78\n",
              "Name: count, dtype: int64"
            ]
          },
          "metadata": {},
          "execution_count": 71
        }
      ]
    },
    {
      "cell_type": "code",
      "source": [
        "# Creating weights based on the ratio of the most represented group to other groups\n",
        "X_train_temp['weights_gender'] = X_train_temp['groups'].apply(lambda x: most_represented_group_count / group_counts_gender[x])\n",
        "\n",
        "# Creating weights based on the ratio of the most represented group to other groups\n",
        "y_train.value_counts()"
      ],
      "metadata": {
        "id": "kL5_fTRVyUsU",
        "colab": {
          "base_uri": "https://localhost:8080/"
        },
        "outputId": "ec6fa218-4136-4b62-e567-0f6e822f408c"
      },
      "execution_count": 72,
      "outputs": [
        {
          "output_type": "execute_result",
          "data": {
            "text/plain": [
              "target\n",
              "1    132\n",
              "0    109\n",
              "Name: count, dtype: int64"
            ]
          },
          "metadata": {},
          "execution_count": 72
        }
      ]
    },
    {
      "cell_type": "code",
      "source": [
        "# Calculating the total weight for each gender group\n",
        "X_train_temp.groupby('groups')['weights_gender'].sum()"
      ],
      "metadata": {
        "colab": {
          "base_uri": "https://localhost:8080/"
        },
        "id": "gZcUBM4ChVdN",
        "outputId": "53abbd5d-fa61-4dfb-d558-4a81134d8fba"
      },
      "execution_count": 73,
      "outputs": [
        {
          "output_type": "execute_result",
          "data": {
            "text/plain": [
              "groups\n",
              "0    163.0\n",
              "1    163.0\n",
              "Name: weights_gender, dtype: float64"
            ]
          },
          "metadata": {},
          "execution_count": 73
        }
      ]
    },
    {
      "cell_type": "markdown",
      "source": [
        "After reweighting, the total weight calculated for each gender group is equal, with both groups having a total weight of 163. The weighting strategy has effectively balanced the influence of each gender group in the training data."
      ],
      "metadata": {
        "id": "BF9UIGWJjfQ2"
      }
    },
    {
      "cell_type": "markdown",
      "source": [
        "2. Target Weighting"
      ],
      "metadata": {
        "id": "kIQIzUa4V1pY"
      }
    },
    {
      "cell_type": "markdown",
      "source": [
        "\n",
        "Here we are using the target variable (presence of heart disease) to address class imbalance. By assigning weights inversely proportional to class frequencies, the representation of less frequent outcomes is enhanced, ensuring the model trains effectively across varying levels of disease presence."
      ],
      "metadata": {
        "id": "hspuvHgXkkYT"
      }
    },
    {
      "cell_type": "code",
      "source": [
        "# Counting the occurrences of each group in the training data: TARGET WEIGHTING\n",
        "group_counts_target = y_train.value_counts()\n",
        "\n",
        "# Finding the count of the most represented group\n",
        "most_represented_group_count_target = group_counts_target.max()\n",
        "\n",
        "# Creating weights based on the ratio of the most represented group to other groups\n",
        "X_train_temp['weights_target'] = y_train.apply(lambda x: most_represented_group_count_target / group_counts_target[x])\n",
        "\n",
        "# Calculating the total weight for each target group\n",
        "\n",
        "X_train_temp['target'] = y_train\n",
        "\n",
        "X_train_temp.groupby('target')['weights_target'].sum()"
      ],
      "metadata": {
        "colab": {
          "base_uri": "https://localhost:8080/"
        },
        "id": "szqLFpnDCbSf",
        "outputId": "91818c10-d004-4dac-9942-1ecc0162be24"
      },
      "execution_count": 74,
      "outputs": [
        {
          "output_type": "execute_result",
          "data": {
            "text/plain": [
              "target\n",
              "0    132.0\n",
              "1    132.0\n",
              "Name: weights_target, dtype: float64"
            ]
          },
          "metadata": {},
          "execution_count": 74
        }
      ]
    },
    {
      "cell_type": "markdown",
      "source": [
        "The output shows that after applying the target weighting method, both classes have an equal total weight of 132. This indicates that both classes now have an equal influence in the training of the model, effectively balancing the dataset for more accurate learning outcomes.\n",
        "\n",
        "\n",
        "\n",
        "\n",
        "\n",
        "\n"
      ],
      "metadata": {
        "id": "D9GwSV5Tk66x"
      }
    },
    {
      "cell_type": "markdown",
      "source": [
        "3.  Female Target Proportion Weighting"
      ],
      "metadata": {
        "id": "QNeKjQ-BY1CT"
      }
    },
    {
      "cell_type": "markdown",
      "source": [
        "This code adjusts training weights to equalize the proportion of heart disease between genders in a dataset. It calculates the disease prevalence among women and applies a corresponding weight to men with heart disease to match this prevalence. Weights are assigned such that men with heart disease have an adjusted influence in the dataset, while others maintain a default weight."
      ],
      "metadata": {
        "id": "Cz9bjeGOmD8Q"
      }
    },
    {
      "cell_type": "code",
      "source": [
        "# Weights maintaining the target proportion in women applied to men\n",
        "contingency_table_temp = pd.crosstab(X_train_temp['sex'], X_train_temp['target'])\n",
        "\n",
        "# Percentage of females with target 1\n",
        "female_target_1_percentage = contingency_table_temp.values[0,1] / contingency_table_temp.values[0,:].sum()\n",
        "# Percentage of males with target 1\n",
        "male_target_1_percentage = contingency_table_temp.values[1,1] / contingency_table_temp.values[1,:].sum()\n",
        "\n",
        "#Calculate weights\n",
        "weights_prop = (contingency_table_temp.values[1,0] * female_target_1_percentage) / (contingency_table_temp.values[1,1] * (1 - female_target_1_percentage) )\n",
        "\n",
        "# Assing weights\n",
        "weights_temp = []\n",
        "for index, row in X_train_temp.iterrows():\n",
        "    if row['sex'] == 1 and row['target'] == 1:\n",
        "        weights_temp.append(weights_prop)\n",
        "    else:\n",
        "        weights_temp.append(1)\n",
        "\n",
        "X_train_temp['weight_perc_target']= weights_temp\n",
        "\n",
        "X_train_temp.groupby(['sex', 'target'])['weight_perc_target'].sum().unstack()\n"
      ],
      "metadata": {
        "colab": {
          "base_uri": "https://localhost:8080/",
          "height": 143
        },
        "id": "uKv56nNFyWth",
        "outputId": "56ed500e-3a19-4c85-d247-93ac5f73682f"
      },
      "execution_count": 75,
      "outputs": [
        {
          "output_type": "execute_result",
          "data": {
            "text/plain": [
              "target     0           1\n",
              "sex                     \n",
              "0       21.0   57.000000\n",
              "1       88.0  238.857143"
            ],
            "text/html": [
              "\n",
              "  <div id=\"df-3cf20365-6dff-4b20-a6ec-4a17c2876fcb\" class=\"colab-df-container\">\n",
              "    <div>\n",
              "<style scoped>\n",
              "    .dataframe tbody tr th:only-of-type {\n",
              "        vertical-align: middle;\n",
              "    }\n",
              "\n",
              "    .dataframe tbody tr th {\n",
              "        vertical-align: top;\n",
              "    }\n",
              "\n",
              "    .dataframe thead th {\n",
              "        text-align: right;\n",
              "    }\n",
              "</style>\n",
              "<table border=\"1\" class=\"dataframe\">\n",
              "  <thead>\n",
              "    <tr style=\"text-align: right;\">\n",
              "      <th>target</th>\n",
              "      <th>0</th>\n",
              "      <th>1</th>\n",
              "    </tr>\n",
              "    <tr>\n",
              "      <th>sex</th>\n",
              "      <th></th>\n",
              "      <th></th>\n",
              "    </tr>\n",
              "  </thead>\n",
              "  <tbody>\n",
              "    <tr>\n",
              "      <th>0</th>\n",
              "      <td>21.0</td>\n",
              "      <td>57.000000</td>\n",
              "    </tr>\n",
              "    <tr>\n",
              "      <th>1</th>\n",
              "      <td>88.0</td>\n",
              "      <td>238.857143</td>\n",
              "    </tr>\n",
              "  </tbody>\n",
              "</table>\n",
              "</div>\n",
              "    <div class=\"colab-df-buttons\">\n",
              "\n",
              "  <div class=\"colab-df-container\">\n",
              "    <button class=\"colab-df-convert\" onclick=\"convertToInteractive('df-3cf20365-6dff-4b20-a6ec-4a17c2876fcb')\"\n",
              "            title=\"Convert this dataframe to an interactive table.\"\n",
              "            style=\"display:none;\">\n",
              "\n",
              "  <svg xmlns=\"http://www.w3.org/2000/svg\" height=\"24px\" viewBox=\"0 -960 960 960\">\n",
              "    <path d=\"M120-120v-720h720v720H120Zm60-500h600v-160H180v160Zm220 220h160v-160H400v160Zm0 220h160v-160H400v160ZM180-400h160v-160H180v160Zm440 0h160v-160H620v160ZM180-180h160v-160H180v160Zm440 0h160v-160H620v160Z\"/>\n",
              "  </svg>\n",
              "    </button>\n",
              "\n",
              "  <style>\n",
              "    .colab-df-container {\n",
              "      display:flex;\n",
              "      gap: 12px;\n",
              "    }\n",
              "\n",
              "    .colab-df-convert {\n",
              "      background-color: #E8F0FE;\n",
              "      border: none;\n",
              "      border-radius: 50%;\n",
              "      cursor: pointer;\n",
              "      display: none;\n",
              "      fill: #1967D2;\n",
              "      height: 32px;\n",
              "      padding: 0 0 0 0;\n",
              "      width: 32px;\n",
              "    }\n",
              "\n",
              "    .colab-df-convert:hover {\n",
              "      background-color: #E2EBFA;\n",
              "      box-shadow: 0px 1px 2px rgba(60, 64, 67, 0.3), 0px 1px 3px 1px rgba(60, 64, 67, 0.15);\n",
              "      fill: #174EA6;\n",
              "    }\n",
              "\n",
              "    .colab-df-buttons div {\n",
              "      margin-bottom: 4px;\n",
              "    }\n",
              "\n",
              "    [theme=dark] .colab-df-convert {\n",
              "      background-color: #3B4455;\n",
              "      fill: #D2E3FC;\n",
              "    }\n",
              "\n",
              "    [theme=dark] .colab-df-convert:hover {\n",
              "      background-color: #434B5C;\n",
              "      box-shadow: 0px 1px 3px 1px rgba(0, 0, 0, 0.15);\n",
              "      filter: drop-shadow(0px 1px 2px rgba(0, 0, 0, 0.3));\n",
              "      fill: #FFFFFF;\n",
              "    }\n",
              "  </style>\n",
              "\n",
              "    <script>\n",
              "      const buttonEl =\n",
              "        document.querySelector('#df-3cf20365-6dff-4b20-a6ec-4a17c2876fcb button.colab-df-convert');\n",
              "      buttonEl.style.display =\n",
              "        google.colab.kernel.accessAllowed ? 'block' : 'none';\n",
              "\n",
              "      async function convertToInteractive(key) {\n",
              "        const element = document.querySelector('#df-3cf20365-6dff-4b20-a6ec-4a17c2876fcb');\n",
              "        const dataTable =\n",
              "          await google.colab.kernel.invokeFunction('convertToInteractive',\n",
              "                                                    [key], {});\n",
              "        if (!dataTable) return;\n",
              "\n",
              "        const docLinkHtml = 'Like what you see? Visit the ' +\n",
              "          '<a target=\"_blank\" href=https://colab.research.google.com/notebooks/data_table.ipynb>data table notebook</a>'\n",
              "          + ' to learn more about interactive tables.';\n",
              "        element.innerHTML = '';\n",
              "        dataTable['output_type'] = 'display_data';\n",
              "        await google.colab.output.renderOutput(dataTable, element);\n",
              "        const docLink = document.createElement('div');\n",
              "        docLink.innerHTML = docLinkHtml;\n",
              "        element.appendChild(docLink);\n",
              "      }\n",
              "    </script>\n",
              "  </div>\n",
              "\n",
              "\n",
              "<div id=\"df-a75e2829-8d8a-49dd-850c-612ce4a05b15\">\n",
              "  <button class=\"colab-df-quickchart\" onclick=\"quickchart('df-a75e2829-8d8a-49dd-850c-612ce4a05b15')\"\n",
              "            title=\"Suggest charts\"\n",
              "            style=\"display:none;\">\n",
              "\n",
              "<svg xmlns=\"http://www.w3.org/2000/svg\" height=\"24px\"viewBox=\"0 0 24 24\"\n",
              "     width=\"24px\">\n",
              "    <g>\n",
              "        <path d=\"M19 3H5c-1.1 0-2 .9-2 2v14c0 1.1.9 2 2 2h14c1.1 0 2-.9 2-2V5c0-1.1-.9-2-2-2zM9 17H7v-7h2v7zm4 0h-2V7h2v10zm4 0h-2v-4h2v4z\"/>\n",
              "    </g>\n",
              "</svg>\n",
              "  </button>\n",
              "\n",
              "<style>\n",
              "  .colab-df-quickchart {\n",
              "      --bg-color: #E8F0FE;\n",
              "      --fill-color: #1967D2;\n",
              "      --hover-bg-color: #E2EBFA;\n",
              "      --hover-fill-color: #174EA6;\n",
              "      --disabled-fill-color: #AAA;\n",
              "      --disabled-bg-color: #DDD;\n",
              "  }\n",
              "\n",
              "  [theme=dark] .colab-df-quickchart {\n",
              "      --bg-color: #3B4455;\n",
              "      --fill-color: #D2E3FC;\n",
              "      --hover-bg-color: #434B5C;\n",
              "      --hover-fill-color: #FFFFFF;\n",
              "      --disabled-bg-color: #3B4455;\n",
              "      --disabled-fill-color: #666;\n",
              "  }\n",
              "\n",
              "  .colab-df-quickchart {\n",
              "    background-color: var(--bg-color);\n",
              "    border: none;\n",
              "    border-radius: 50%;\n",
              "    cursor: pointer;\n",
              "    display: none;\n",
              "    fill: var(--fill-color);\n",
              "    height: 32px;\n",
              "    padding: 0;\n",
              "    width: 32px;\n",
              "  }\n",
              "\n",
              "  .colab-df-quickchart:hover {\n",
              "    background-color: var(--hover-bg-color);\n",
              "    box-shadow: 0 1px 2px rgba(60, 64, 67, 0.3), 0 1px 3px 1px rgba(60, 64, 67, 0.15);\n",
              "    fill: var(--button-hover-fill-color);\n",
              "  }\n",
              "\n",
              "  .colab-df-quickchart-complete:disabled,\n",
              "  .colab-df-quickchart-complete:disabled:hover {\n",
              "    background-color: var(--disabled-bg-color);\n",
              "    fill: var(--disabled-fill-color);\n",
              "    box-shadow: none;\n",
              "  }\n",
              "\n",
              "  .colab-df-spinner {\n",
              "    border: 2px solid var(--fill-color);\n",
              "    border-color: transparent;\n",
              "    border-bottom-color: var(--fill-color);\n",
              "    animation:\n",
              "      spin 1s steps(1) infinite;\n",
              "  }\n",
              "\n",
              "  @keyframes spin {\n",
              "    0% {\n",
              "      border-color: transparent;\n",
              "      border-bottom-color: var(--fill-color);\n",
              "      border-left-color: var(--fill-color);\n",
              "    }\n",
              "    20% {\n",
              "      border-color: transparent;\n",
              "      border-left-color: var(--fill-color);\n",
              "      border-top-color: var(--fill-color);\n",
              "    }\n",
              "    30% {\n",
              "      border-color: transparent;\n",
              "      border-left-color: var(--fill-color);\n",
              "      border-top-color: var(--fill-color);\n",
              "      border-right-color: var(--fill-color);\n",
              "    }\n",
              "    40% {\n",
              "      border-color: transparent;\n",
              "      border-right-color: var(--fill-color);\n",
              "      border-top-color: var(--fill-color);\n",
              "    }\n",
              "    60% {\n",
              "      border-color: transparent;\n",
              "      border-right-color: var(--fill-color);\n",
              "    }\n",
              "    80% {\n",
              "      border-color: transparent;\n",
              "      border-right-color: var(--fill-color);\n",
              "      border-bottom-color: var(--fill-color);\n",
              "    }\n",
              "    90% {\n",
              "      border-color: transparent;\n",
              "      border-bottom-color: var(--fill-color);\n",
              "    }\n",
              "  }\n",
              "</style>\n",
              "\n",
              "  <script>\n",
              "    async function quickchart(key) {\n",
              "      const quickchartButtonEl =\n",
              "        document.querySelector('#' + key + ' button');\n",
              "      quickchartButtonEl.disabled = true;  // To prevent multiple clicks.\n",
              "      quickchartButtonEl.classList.add('colab-df-spinner');\n",
              "      try {\n",
              "        const charts = await google.colab.kernel.invokeFunction(\n",
              "            'suggestCharts', [key], {});\n",
              "      } catch (error) {\n",
              "        console.error('Error during call to suggestCharts:', error);\n",
              "      }\n",
              "      quickchartButtonEl.classList.remove('colab-df-spinner');\n",
              "      quickchartButtonEl.classList.add('colab-df-quickchart-complete');\n",
              "    }\n",
              "    (() => {\n",
              "      let quickchartButtonEl =\n",
              "        document.querySelector('#df-a75e2829-8d8a-49dd-850c-612ce4a05b15 button');\n",
              "      quickchartButtonEl.style.display =\n",
              "        google.colab.kernel.accessAllowed ? 'block' : 'none';\n",
              "    })();\n",
              "  </script>\n",
              "</div>\n",
              "    </div>\n",
              "  </div>\n"
            ],
            "application/vnd.google.colaboratory.intrinsic+json": {
              "type": "dataframe",
              "summary": "{\n  \"name\": \"X_train_temp\",\n  \"rows\": 2,\n  \"fields\": [\n    {\n      \"column\": \"sex\",\n      \"properties\": {\n        \"dtype\": \"number\",\n        \"std\": 0,\n        \"min\": 0,\n        \"max\": 1,\n        \"num_unique_values\": 2,\n        \"samples\": [\n          1,\n          0\n        ],\n        \"semantic_type\": \"\",\n        \"description\": \"\"\n      }\n    },\n    {\n      \"column\": 0,\n      \"properties\": {\n        \"dtype\": \"number\",\n        \"std\": 47.37615433949868,\n        \"min\": 21.0,\n        \"max\": 88.0,\n        \"num_unique_values\": 2,\n        \"samples\": [\n          88.0,\n          21.0\n        ],\n        \"semantic_type\": \"\",\n        \"description\": \"\"\n      }\n    },\n    {\n      \"column\": 1,\n      \"properties\": {\n        \"dtype\": \"number\",\n        \"std\": 128.59241892149637,\n        \"min\": 57.0,\n        \"max\": 238.8571428571428,\n        \"num_unique_values\": 2,\n        \"samples\": [\n          238.8571428571428,\n          57.0\n        ],\n        \"semantic_type\": \"\",\n        \"description\": \"\"\n      }\n    }\n  ]\n}"
            }
          },
          "metadata": {},
          "execution_count": 75
        }
      ]
    },
    {
      "cell_type": "markdown",
      "source": [
        "\n",
        "The results show the total weights for each combination of sex and target categories, with males having significantly higher total weights compared to females across both target outcomes."
      ],
      "metadata": {
        "id": "cRzKBfVVmlSn"
      }
    },
    {
      "cell_type": "markdown",
      "source": [
        "4. Weighted Model Metrics"
      ],
      "metadata": {
        "id": "vR3hzi_Ab2WH"
      }
    },
    {
      "cell_type": "markdown",
      "source": [
        "After addressing potential data imbalances by applying different weighting strategies to train multiple RandomForestClassifier models, I extract the respective weights to fit the model using these weights, and then make predictions on the test set. After obtaining the predictions, I compute and compare performance metrics for each approach, displaying the results in a pivot format. This methodical approach helps evaluate the impact of each weighting strategy on model fairness and accuracy."
      ],
      "metadata": {
        "id": "5H0SH1EbnPAb"
      }
    },
    {
      "cell_type": "code",
      "source": [
        "#GENDER WEIGHTING\n",
        "# Extracting weights and removing them from the training data\n",
        "weights = X_train_temp['weights_gender']\n",
        "\n",
        "\n",
        "# Fitting the model with the weighted samples\n",
        "clf_preprocess_gender = RandomForestClassifier(random_state=1000)\n",
        "clf_preprocess_gender.fit(X_train, y_train, sample_weight=weights)\n",
        "\n",
        "# Predicting on the test set\n",
        "y_hat_preprocess_gender = clf_preprocess_gender.predict(X_test)\n",
        "\n",
        "# Predicting probabilities\n",
        "y_hat_preprocess_proba_gender = clf_preprocess_gender.predict_proba(X_test)\n",
        "\n",
        "# Computing metrics\n",
        "metrics_df_gender = compute_metrics(y_hat=y_hat_preprocess_gender, y_test=y_test, X_test=X_test)\n",
        "\n",
        "# Printing metrics in a pivot format\n",
        "print(metrics_df_gender.pivot(index='Metric', columns='Group', values='Value'))\n"
      ],
      "metadata": {
        "colab": {
          "base_uri": "https://localhost:8080/"
        },
        "id": "H57tjIC4ybX5",
        "outputId": "f2ff5335-b740-4bfc-ff0c-9e227b097532"
      },
      "execution_count": 76,
      "outputs": [
        {
          "output_type": "stream",
          "name": "stdout",
          "text": [
            "Group        Female      Male\n",
            "Metric                       \n",
            "Accuracy   0.833333  0.767442\n",
            "FPR        0.666667  0.346154\n",
            "Precision  0.875000  0.640000\n",
            "Recall     0.933333  0.941176\n"
          ]
        }
      ]
    },
    {
      "cell_type": "code",
      "source": [
        "#TARGET WEIGHTING\n",
        "# Extracting weights and removing them from the training data\n",
        "weights = X_train_temp['weights_target']\n",
        "\n",
        "\n",
        "# Fitting the model with the weighted samples\n",
        "clf_preprocess_target = RandomForestClassifier(random_state=1000)\n",
        "clf_preprocess_target.fit(X_train, y_train, sample_weight=weights)\n",
        "\n",
        "# Predicting on the test set\n",
        "y_hat_preprocess_target = clf_preprocess_target.predict(X_test)\n",
        "\n",
        "# Predicting probabilities\n",
        "y_hat_preprocess_proba_target = clf_preprocess_target.predict_proba(X_test)\n",
        "\n",
        "# Computing metrics\n",
        "metrics_df_target = compute_metrics(y_hat=y_hat_preprocess_target, y_test=y_test, X_test=X_test)\n",
        "\n",
        "# Printing metrics in a pivot format\n",
        "print(metrics_df_target.pivot(index='Metric', columns='Group', values='Value'))"
      ],
      "metadata": {
        "colab": {
          "base_uri": "https://localhost:8080/"
        },
        "id": "ISvforW1bQK4",
        "outputId": "f0979b1f-f6b1-4369-c781-83987060dbf6"
      },
      "execution_count": 77,
      "outputs": [
        {
          "output_type": "stream",
          "name": "stdout",
          "text": [
            "Group        Female      Male\n",
            "Metric                       \n",
            "Accuracy   0.833333  0.767442\n",
            "FPR        0.666667  0.346154\n",
            "Precision  0.875000  0.640000\n",
            "Recall     0.933333  0.941176\n"
          ]
        }
      ]
    },
    {
      "cell_type": "code",
      "source": [
        "#FEMALE TARGET PROPORTION WEIGHTING\n",
        "# Extracting weights and removing them from the training data\n",
        "weights = X_train_temp['weight_perc_target']\n",
        "\n",
        "\n",
        "# Fitting the model with the weighted samples\n",
        "clf_preprocess_proport = RandomForestClassifier(random_state=1000)\n",
        "clf_preprocess_proport.fit(X_train, y_train, sample_weight=weights)\n",
        "\n",
        "# Predicting on the test set\n",
        "y_hat_preprocess_proport = clf_preprocess_proport.predict(X_test)\n",
        "\n",
        "# Predicting probabilities\n",
        "y_hat_preprocess_proba_proport = clf_preprocess_proport.predict_proba(X_test)\n",
        "\n",
        "# Computing metrics\n",
        "metrics_df_proport = compute_metrics(y_hat=y_hat_preprocess_proport, y_test=y_test, X_test=X_test)\n",
        "\n",
        "# Printing metrics in a pivot format\n",
        "print(metrics_df_proport.pivot(index='Metric', columns='Group', values='Value'))"
      ],
      "metadata": {
        "colab": {
          "base_uri": "https://localhost:8080/"
        },
        "id": "MgZN61zebMs5",
        "outputId": "6e1f3a6c-a754-4584-89a9-43fb0548e591"
      },
      "execution_count": 78,
      "outputs": [
        {
          "output_type": "stream",
          "name": "stdout",
          "text": [
            "Group        Female      Male\n",
            "Metric                       \n",
            "Accuracy   0.833333  0.813953\n",
            "FPR        0.666667  0.307692\n",
            "Precision  0.875000  0.680000\n",
            "Recall     0.933333  1.000000\n"
          ]
        }
      ]
    },
    {
      "cell_type": "markdown",
      "source": [
        "\n",
        "Evaluating the metrics after applying different weighting strategies to mitigate biases in predicting heart attacks by gender, slight changes are observed in performance metrics. Precision and recall varied moderately between strategies, but the most notable change was using the female target proportion weighting, where precision for males increased and recall reached 100% for them, indicating that this strategy is more effective in identifying all positive cases in males. However, false positive rates (FPR) remained high across all methods, particularly for females, indicating an area that still requires adjustment."
      ],
      "metadata": {
        "id": "8Gc24f8Yg3NB"
      }
    },
    {
      "cell_type": "markdown",
      "source": [
        "**In-Processing for Bias Mitigation**"
      ],
      "metadata": {
        "id": "79Ehf8C3jU0p"
      }
    },
    {
      "cell_type": "markdown",
      "source": [
        "I have implemented a process to manage and analyze data by groups using the gender variable to train separate models for each group and then combining their predictions. After training, I predict outcomes for each group and then merge these predictions into a single dataset. This approach allows to tailor the model training to the specific characteristics of each group, potentially improving accuracy and fairness by addressing unique group dynamics."
      ],
      "metadata": {
        "id": "Gd18P5TX2aKn"
      }
    },
    {
      "cell_type": "code",
      "source": [
        "# Function to split the data into groups based on a specified column\n",
        "def split_train_and_test_by_group(X_train, X_test, y_train, y_test):\n",
        "    # Copying the training and testing data\n",
        "    train = X_train.copy()\n",
        "    test = X_test.copy()\n",
        "\n",
        "    # Adding the outcome column to both training and testing sets\n",
        "    train['outcome'] = y_train\n",
        "    test['outcome'] = y_test\n",
        "\n",
        "    # Splitting the data into groups based on the 'groups' column\n",
        "    train_g1 = train[train['groups'] == 1]\n",
        "    train_g0 = train[train['groups'] == 0]\n",
        "    test_g1 = test[test['groups'] == 1]\n",
        "    test_g0 = test[test['groups'] == 0]\n",
        "\n",
        "    # Extracting the outcome for each group in the training and testing sets\n",
        "    y_train_g1 = train_g1['outcome']\n",
        "    y_train_g0 = train_g0['outcome']\n",
        "    y_test_g1 = test_g1['outcome']\n",
        "    y_test_g0 = test_g0['outcome']\n",
        "\n",
        "    # Removing the 'outcome' and 'groups' columns to prepare features for each group\n",
        "    X_train_g1 = train_g1.drop(['outcome', 'groups'], axis=1)\n",
        "    X_train_g0 = train_g0.drop(['outcome', 'groups'], axis=1)\n",
        "    X_test_g1 = test_g1.drop(['outcome', 'groups'], axis=1)\n",
        "    X_test_g0 = test_g0.drop(['outcome', 'groups'], axis=1)\n",
        "\n",
        "    return y_train_g1, y_train_g0, y_test_g1, y_test_g0, X_train_g1, X_train_g0, X_test_g1, X_test_g0\n",
        "\n",
        "# Splitting the data into groups\n",
        "y_train_g1, y_train_g0, y_test_g1, y_test_g0, X_train_g1, X_train_g0, X_test_g1, X_test_g0 = split_train_and_test_by_group(X_train=X_train,\n",
        "                                                                                                                      X_test=X_test,\n",
        "                                                                                                                      y_train=y_train,\n",
        "                                                                                                                      y_test=y_test)\n"
      ],
      "metadata": {
        "id": "-mzzGcvOyjiz"
      },
      "execution_count": 79,
      "outputs": []
    },
    {
      "cell_type": "code",
      "source": [
        "# Initializing and training Random Forest classifiers for each group\n",
        "clf_g0 = RandomForestClassifier(random_state=1000)\n",
        "clf_g0.fit(X_train_g0, y_train_g0)\n",
        "\n",
        "clf_g1 = RandomForestClassifier(random_state=1000)\n",
        "clf_g1.fit(X_train_g1, y_train_g1)\n",
        "\n",
        "# Predicting outcomes for each group\n",
        "y_hat_g0 = clf_g0.predict(X_test_g0)\n",
        "y_hat_g1 = clf_g1.predict(X_test_g1)\n"
      ],
      "metadata": {
        "id": "GPwWojoRyuhH"
      },
      "execution_count": 80,
      "outputs": []
    },
    {
      "cell_type": "code",
      "source": [
        "# Merge predictions and test data from separate models for different groups\n",
        "def merge_separate_models(y_hat_g1, y_hat_g0, y_test_g1, y_test_g0, X_test_g1, X_test_g0):\n",
        "    # Create DataFrame for group 1\n",
        "    test_g1 = X_test_g1.copy()\n",
        "    test_g1['groups'] = 1\n",
        "    test_g1['outcome'] = y_test_g1\n",
        "    test_g1['pred'] = y_hat_g1\n",
        "\n",
        "    # Create DataFrame for group 0\n",
        "    test_g0 = X_test_g0.copy()\n",
        "    test_g0['groups'] = 0\n",
        "    test_g0['outcome'] = y_test_g0\n",
        "    test_g0['pred'] = y_hat_g0\n",
        "\n",
        "    # Concatenate DataFrames for both groups\n",
        "    test = pd.concat([test_g0, test_g1])\n",
        "\n",
        "    # Separate merged data into target, predicted values, and features\n",
        "    y_test = test['outcome']\n",
        "    y_hat = test['pred']\n",
        "    X_test = test.drop(['outcome', 'pred'], axis=1)\n",
        "\n",
        "    return y_test, y_hat, X_test\n",
        "\n",
        "# Merge predictions and test data from separate models for different groups\n",
        "y_test_combined_mit, y_hat_combined_mit, X_test_combined_mit = merge_separate_models(y_hat_g1=y_hat_g1,\n",
        "                                                                          y_hat_g0=y_hat_g0,\n",
        "                                                                          y_test_g1=y_test_g1,\n",
        "                                                                          y_test_g0=y_test_g0,\n",
        "                                                                          X_test_g1=X_test_g1,\n",
        "                                                                          X_test_g0=X_test_g0)"
      ],
      "metadata": {
        "id": "BuPWZ6pdyxZR"
      },
      "execution_count": 81,
      "outputs": []
    },
    {
      "cell_type": "code",
      "source": [
        "# Compute metrics for the combined predictions and test data\n",
        "metrics_df_mit = compute_metrics(y_hat=y_hat_combined_mit,\n",
        "                             y_test=y_test_combined_mit,\n",
        "                             X_test=X_test_combined_mit)\n",
        "\n",
        "# Print metrics in pivot formaty\n",
        "print(metrics_df_mit.pivot(index='Metric', columns='Group', values='Value'))\n"
      ],
      "metadata": {
        "colab": {
          "base_uri": "https://localhost:8080/"
        },
        "id": "mRbsc7b6y0Gp",
        "outputId": "882e5165-1cb9-409a-e2cb-d6ebb9990d36"
      },
      "execution_count": 82,
      "outputs": [
        {
          "output_type": "stream",
          "name": "stdout",
          "text": [
            "Group        Female      Male\n",
            "Metric                       \n",
            "Accuracy   0.888889  0.767442\n",
            "FPR        0.666667  0.269231\n",
            "Precision  0.882353  0.666667\n",
            "Recall     1.000000  0.823529\n"
          ]
        }
      ]
    },
    {
      "cell_type": "markdown",
      "source": [
        "**Post-processing for Bias Mitigation**"
      ],
      "metadata": {
        "id": "D8SFN5bezo1i"
      }
    },
    {
      "cell_type": "markdown",
      "source": [
        "We have designed a function to evaluate the impact of different threshold values on the prediction accuracy and recall metrics across groups. The function takes true outcomes, predicted probabilities, group identifiers, and a set of potential threshold values as inputs. It identifies unique groups and generates all possible combinations of thresholds for these groups. For each combination, it applies the thresholds to generate predictions, then calculates recall for each group and overall accuracy for the model. It also computes the recall difference between the groups to assess fairness or bias in recall rates. The results of these evaluations are stored and returned in a DataFrame.\n",
        "\n",
        "We systematically tested a range of threshold values (from 0.3 to 1, divided into 100 increments) to see which maximizes the recall for the male group, effectively searching for a threshold that balances accuracy and recall, while also possibly addressing fairness between groups based on their predicted outcomes."
      ],
      "metadata": {
        "id": "XW4gFNbO-DcK"
      }
    },
    {
      "cell_type": "code",
      "source": [
        "def evaluate_group_thresholds(y_true, y_proba, groups, threshold_values):\n",
        "    # Identify unique groups in the dataset\n",
        "    unique_groups = np.unique(groups)\n",
        "\n",
        "    # Generate all combinations of thresholds for the groups\n",
        "    all_combinations = list(product(threshold_values, repeat=len(unique_groups)))\n",
        "\n",
        "    results = []\n",
        "\n",
        "    for combination in all_combinations:\n",
        "        # Map thresholds to corresponding groups\n",
        "        group_thresholds = {group: threshold for group, threshold in zip(unique_groups, combination)}\n",
        "\n",
        "        # Initialize predictions\n",
        "        y_pred = np.zeros(y_true.shape)\n",
        "        for group, threshold in group_thresholds.items():\n",
        "            group_mask = (groups == group)\n",
        "            y_pred[group_mask] = (y_proba[group_mask] >= threshold).astype(int)\n",
        "\n",
        "        # Calculate recall for each group\n",
        "        recalls = {}\n",
        "        for group in unique_groups:\n",
        "            group_mask = (groups == group)\n",
        "            group_true = y_true[group_mask]\n",
        "            group_pred = y_pred[group_mask]\n",
        "\n",
        "            recalls[group] = recall_score(group_true, group_pred)\n",
        "\n",
        "        # Calculate overall accuracy\n",
        "        overall_accuracy = accuracy_score(y_true, y_pred)\n",
        "\n",
        "        # Calculate recall difference between groups\n",
        "        recall_diff = recalls[unique_groups[0]] - recalls[unique_groups[1]]\n",
        "\n",
        "        # Collect results for this combination\n",
        "        row = [group_thresholds[unique_groups[0]], group_thresholds[unique_groups[1]], overall_accuracy, recall_diff]\n",
        "        results.append(row)\n",
        "\n",
        "    columns = ['Threshold 0', 'Threshold 1', 'Model Accuracy', 'Recall Difference']\n",
        "    results_df = pd.DataFrame(results, columns=columns)\n",
        "\n",
        "    return results_df\n",
        "\n",
        "# Assuming 'y_hat_probs' are the probabilities predicted by your model\n",
        "threshold_values = np.linspace(0.3, 1, 100)  # Threshold values to evaluate\n",
        "#Using target probabilities of proportional female target model\n",
        "results = evaluate_group_thresholds(y_true=y_test,\n",
        "                                    y_proba=y_hat_preprocess_proba_gender[:,1],\n",
        "                                    groups=X_test['groups'],\n",
        "                                    threshold_values=threshold_values)\n",
        "\n",
        "# Find the threshold that maximizes recall for the male group\n",
        "best_threshold_male_recall = results.loc[results['Recall Difference'].idxmax()]['Threshold 0']\n",
        "\n",
        "print(\"Threshold that maximizes recall for females:\", best_threshold_male_recall)"
      ],
      "metadata": {
        "colab": {
          "base_uri": "https://localhost:8080/"
        },
        "id": "9RBzZKkRql5T",
        "outputId": "a2e4b0ee-8408-43c0-f93a-d26efd027efb"
      },
      "execution_count": 83,
      "outputs": [
        {
          "output_type": "stream",
          "name": "stdout",
          "text": [
            "Threshold that maximizes recall for females: 0.3\n"
          ]
        }
      ]
    },
    {
      "cell_type": "code",
      "source": [
        "# Filter to find the threshold with maximum recall within the subset\n",
        "recall_threshold_subset = results[results['Recall Difference'].abs() < 0.01]\n",
        "#recall_threshold_subset = results.copy()\n",
        "max_recall_index = recall_threshold_subset['Model Accuracy'].idxmax()\n",
        "max_recall_row = recall_threshold_subset.loc[max_recall_index]\n",
        "\n",
        "# Print the row with the maximum recall within the subset\n",
        "print(\"Row with maximum recall within the subset:\")\n",
        "print(max_recall_row)\n"
      ],
      "metadata": {
        "colab": {
          "base_uri": "https://localhost:8080/"
        },
        "id": "TTV9U_xEqrPS",
        "outputId": "87f73f77-aa15-4e90-b4c2-8192f0778ab3"
      },
      "execution_count": 84,
      "outputs": [
        {
          "output_type": "stream",
          "name": "stdout",
          "text": [
            "Row with maximum recall within the subset:\n",
            "Threshold 0          0.300000\n",
            "Threshold 1          0.363636\n",
            "Model Accuracy       0.819672\n",
            "Recall Difference    0.000000\n",
            "Name: 9, dtype: float64\n"
          ]
        }
      ]
    },
    {
      "cell_type": "markdown",
      "source": [
        "The results indicate that the optimal threshold settings for balancing recall between the groups while maintaining high model accuracy are 0.3 for group 0 (females) and 0.361616 for group 1 (males). With these thresholds, the model achieves an accuracy of approximately 81.97%. Notably, the recall difference between the two groups is zero, suggesting that this threshold configuration offers a fair and balanced recall rate across the groups, thereby minimizing bias in the model's predictions."
      ],
      "metadata": {
        "id": "mqVm-iFNHeoo"
      }
    },
    {
      "cell_type": "markdown",
      "source": [
        "Model with Threshold by group"
      ],
      "metadata": {
        "id": "9LQIlzCoB_hD"
      }
    },
    {
      "cell_type": "code",
      "source": [
        "#Threshold\n",
        "threshold0 = max_recall_row[0]\n",
        "threshold1 = max_recall_row[1]\n",
        "\n",
        "\n",
        "# Initializing and training Random Forest classifiers for each group\n",
        "clf_g0 = RandomForestClassifier(random_state=1000)\n",
        "clf_g0.fit(X_train_g0, y_train_g0)\n",
        "\n",
        "clf_g1 = RandomForestClassifier(random_state=1000)\n",
        "clf_g1.fit(X_train_g1, y_train_g1)\n",
        "\n",
        "# Predicting outcomes for each group\n",
        "y_hat_g0 = clf_g0.predict_proba(X_test_g0)\n",
        "y_hat_g1 = clf_g1.predict_proba(X_test_g1)\n",
        "\n",
        "y_hat_g0 = (y_hat_g0[:,1] >= threshold1).astype('int')\n",
        "y_hat_g1 = (y_hat_g1[:,1] >= threshold1).astype('int')\n",
        "\n",
        "\n",
        "y_test_combined_threshold, y_hat_combined_threshold, X_test_combined_threshold = merge_separate_models(y_hat_g1=y_hat_g1,\n",
        "                                                                          y_hat_g0=y_hat_g0,\n",
        "                                                                          y_test_g1=y_test_g1,\n",
        "                                                                          y_test_g0=y_test_g0,\n",
        "                                                                          X_test_g1=X_test_g1,\n",
        "                                                                          X_test_g0=X_test_g0)"
      ],
      "metadata": {
        "id": "9QuBrZ7--GJn"
      },
      "execution_count": 85,
      "outputs": []
    },
    {
      "cell_type": "code",
      "source": [
        "# Calculate the metrics DataFrame using the predicted and actual values\n",
        "metrics_df_threshold = compute_metrics(y_hat=y_hat_combined_threshold,\n",
        "                             y_test=y_test_combined_threshold,\n",
        "                             X_test=X_test_combined_threshold)\n",
        "\n",
        "# Print the pivoted DataFrame to show metrics by group\n",
        "print(metrics_df_threshold.pivot(index='Metric', columns='Group', values='Value'))\n"
      ],
      "metadata": {
        "colab": {
          "base_uri": "https://localhost:8080/"
        },
        "id": "Zp7tQ6DWrBDm",
        "outputId": "b96dfd16-56af-4c0b-82fe-ef283e4e61ad"
      },
      "execution_count": 86,
      "outputs": [
        {
          "output_type": "stream",
          "name": "stdout",
          "text": [
            "Group        Female      Male\n",
            "Metric                       \n",
            "Accuracy   0.888889  0.790698\n",
            "FPR        0.666667  0.346154\n",
            "Precision  0.882353  0.653846\n",
            "Recall     1.000000  1.000000\n"
          ]
        }
      ]
    },
    {
      "cell_type": "markdown",
      "source": [
        "By adjusting the classification thresholds for each group, we managed to achieve perfect recall for Males (although there is not an improvement in FPR), ensuring that all positive cases were correctly identified. This approach demonstrates the effectiveness of tailoring thresholds to specific group characteristics, significantly enhancing the model's ability to detect all relevant instances without missing any positive detections in the Male group."
      ],
      "metadata": {
        "id": "22my3CBUvsKx"
      }
    },
    {
      "cell_type": "markdown",
      "source": [
        "**Threshold Sensibity Analysis**"
      ],
      "metadata": {
        "id": "576jJ8AlB15n"
      }
    },
    {
      "cell_type": "markdown",
      "source": [
        "\n",
        "The provided code conducts a sensitivity analysis on two RandomForestClassifier models, trained separately for different groups (likely male and female). It evaluates the impact of varying decision thresholds on performance metrics such as accuracy, precision, recall, and false positive rate by iterating over 5000 threshold values from 0 to 1. For each threshold, it calculates these metrics after merging predictions for both groups, providing a detailed look at how changes in the threshold affect each group's model performance."
      ],
      "metadata": {
        "id": "qkuv99mXJLN2"
      }
    },
    {
      "cell_type": "code",
      "source": [
        "def sensib_thrshold(ntimes):\n",
        "\n",
        "  # Initializing and training Random Forest classifiers for each group\n",
        "  clf_g0 = RandomForestClassifier(random_state=1000)\n",
        "  clf_g0.fit(X_train_g0, y_train_g0)\n",
        "\n",
        "  clf_g1 = RandomForestClassifier(random_state=1000)\n",
        "  clf_g1.fit(X_train_g1, y_train_g1)\n",
        "\n",
        "  # Predicting outcomes for each group\n",
        "  y_hat_g0_temp = clf_g0.predict_proba(X_test_g0)\n",
        "  y_hat_g1_temp = clf_g1.predict_proba(X_test_g1)\n",
        "\n",
        "  #Lists\n",
        "  th0 = []\n",
        "  data0 = []\n",
        "  data1 = []\n",
        "\n",
        "  #Define Threshold: n values per group\n",
        "  threshold1 = np.linspace(0, 1, ntimes)\n",
        "\n",
        "  for i in threshold1:\n",
        "    y_hat_g1 = (y_hat_g1_temp[:,1] >= i).astype('int')\n",
        "    y_hat_g0 = (y_hat_g0_temp[:,1] >= i).astype('int')\n",
        "\n",
        "    y_test_combined_threshold, y_hat_combined_threshold, X_test_combined_threshold = merge_separate_models(y_hat_g1=y_hat_g1,\n",
        "                                                                          y_hat_g0=y_hat_g0,\n",
        "                                                                          y_test_g1=y_test_g1,\n",
        "                                                                          y_test_g0=y_test_g0,\n",
        "                                                                          X_test_g1=X_test_g1,\n",
        "                                                                          X_test_g0=X_test_g0)\n",
        "\n",
        "    # Creating a copy of the testing data with predicted outcomes\n",
        "    test = X_test_combined_threshold.copy()\n",
        "    test['outcome'] = y_test_combined_threshold\n",
        "    test['predicted'] = y_hat_combined_threshold\n",
        "\n",
        "    # Calculating true positives, false positives, true negatives, and false negatives for each group\n",
        "    # Group 0 (Female)\n",
        "    TP_0 = ((test['predicted'] == 1) & (test['outcome'] == 1) & (test['groups'] == 0)).sum()\n",
        "    FP_0 = ((test['predicted'] == 1) & (test['outcome'] == 0) & (test['groups'] == 0)).sum()\n",
        "    TN_0 = ((test['predicted'] == 0) & (test['outcome'] == 0) & (test['groups'] == 0)).sum()\n",
        "    FN_0 = ((test['predicted'] == 0) & (test['outcome'] == 1) & (test['groups'] == 0)).sum()\n",
        "\n",
        "    # Group 1 (Male)\n",
        "    TP_1 = ((test['predicted'] == 1) & (test['outcome'] == 1) & (test['groups'] == 1)).sum()\n",
        "    FP_1 = ((test['predicted'] == 1) & (test['outcome'] == 0) & (test['groups'] == 1)).sum()\n",
        "    TN_1 = ((test['predicted'] == 0) & (test['outcome'] == 0) & (test['groups'] == 1)).sum()\n",
        "    FN_1 = ((test['predicted'] == 0) & (test['outcome'] == 1) & (test['groups'] == 1)).sum()\n",
        "\n",
        "    # Computing accuracy, precision, recall, and false positive rate for each group\n",
        "    accuracy_g0 = (TP_0 + TN_0) / (TP_0 + FP_0 + TN_0 + FN_0)\n",
        "    precision_g0 = TP_0 / (TP_0 + FP_0) if (TP_0 + FP_0) > 0 else 0\n",
        "    recall_g0 = TP_0 / (TP_0 + FN_0) if (TP_0 + FN_0) > 0 else 0\n",
        "    false_positive_rate_g0 = FP_0 / (FP_0 + TN_0) if (FP_0 + TN_0) > 0 else 0\n",
        "\n",
        "    accuracy_g1 = (TP_1 + TN_1) / (TP_1 + FP_1 + TN_1 + FN_1)\n",
        "    precision_g1 = TP_1 / (TP_1 + FP_1) if (TP_1 + FP_1) > 0 else 0\n",
        "    recall_g1 = TP_1 / (TP_1 + FN_1) if (TP_1 + FN_1) > 0 else 0\n",
        "    false_positive_rate_g1 = FP_1 / (FP_1 + TN_1) if (FP_1 + TN_1) > 0 else 0\n",
        "\n",
        "    #save data\n",
        "    th0.append(i)\n",
        "    data0.append([accuracy_g0,precision_g0,recall_g0,false_positive_rate_g0])\n",
        "    data1.append([accuracy_g1,precision_g1,recall_g1,false_positive_rate_g1])\n",
        "    #print(i)\n",
        "  return np.array(th0),np.array(data0),np.array(data1)\n"
      ],
      "metadata": {
        "id": "Uv7gu6OrB6_4"
      },
      "execution_count": 87,
      "outputs": []
    },
    {
      "cell_type": "code",
      "source": [
        "th0, data0, data1 = sensib_thrshold(5000)"
      ],
      "metadata": {
        "id": "X7FSPQ73Koxi"
      },
      "execution_count": 88,
      "outputs": []
    },
    {
      "cell_type": "markdown",
      "source": [
        "Finally, the recall results for both groups are plotted, offering a visual comparison of their responses to different thresholds, which aids in identifying optimal threshold settings for balanced performance across groups."
      ],
      "metadata": {
        "id": "OiHLjQ45JTBl"
      }
    },
    {
      "cell_type": "code",
      "source": [
        "fig, ax = plt.subplots()\n",
        "ax.plot(th0, data0[:,2] , 'b-', label='male')\n",
        "ax.plot(th0, data1[:,2] , 'r-', label='female')\n",
        "ax.legend()\n",
        "plt.show()"
      ],
      "metadata": {
        "colab": {
          "base_uri": "https://localhost:8080/",
          "height": 430
        },
        "id": "54qRobaOPw61",
        "outputId": "0126dfbb-2327-4692-c3eb-e2705fc69100"
      },
      "execution_count": 90,
      "outputs": [
        {
          "output_type": "display_data",
          "data": {
            "text/plain": [
              "<Figure size 640x480 with 1 Axes>"
            ],
            "image/png": "[encoded data removed]"
          },
          "metadata": {}
        }
      ]
    },
    {
      "cell_type": "markdown",
      "source": [
        "\n",
        "The graph shows recall rates for two groups labeled male (blue) and female (red) across different threshold values ranging from 0 to 1. Both curves start with high recall at lower thresholds, with the male recall remaining consistently high as the threshold increases, whereas the female recall experiences more pronounced declines, particularly in the mid-range of thresholds, indicating a higher sensitivity to changes in the decision threshold."
      ],
      "metadata": {
        "id": "6177lHzMJcAD"
      }
    },
    {
      "cell_type": "markdown",
      "source": [
        "# Model Summary"
      ],
      "metadata": {
        "id": "RXF9ixNjxBIm"
      }
    },
    {
      "cell_type": "code",
      "source": [
        "# Gender weighting model\n",
        "print(metrics_df_gender.pivot(index='Metric', columns='Group', values='Value'))"
      ],
      "metadata": {
        "id": "pQgb0JV4xC4V",
        "colab": {
          "base_uri": "https://localhost:8080/"
        },
        "outputId": "1439b9fc-df57-490a-b3e5-38522b69c1d8"
      },
      "execution_count": 91,
      "outputs": [
        {
          "output_type": "stream",
          "name": "stdout",
          "text": [
            "Group        Female      Male\n",
            "Metric                       \n",
            "Accuracy   0.833333  0.767442\n",
            "FPR        0.666667  0.346154\n",
            "Precision  0.875000  0.640000\n",
            "Recall     0.933333  0.941176\n"
          ]
        }
      ]
    },
    {
      "cell_type": "code",
      "source": [
        "# Target weighting model\n",
        "print(metrics_df_target.pivot(index='Metric', columns='Group', values='Value'))"
      ],
      "metadata": {
        "id": "ergZJacKxDGj",
        "colab": {
          "base_uri": "https://localhost:8080/"
        },
        "outputId": "aa714ad6-01cb-4bc0-833c-3a8cae88c54c"
      },
      "execution_count": 92,
      "outputs": [
        {
          "output_type": "stream",
          "name": "stdout",
          "text": [
            "Group        Female      Male\n",
            "Metric                       \n",
            "Accuracy   0.833333  0.767442\n",
            "FPR        0.666667  0.346154\n",
            "Precision  0.875000  0.640000\n",
            "Recall     0.933333  0.941176\n"
          ]
        }
      ]
    },
    {
      "cell_type": "code",
      "source": [
        "#Female Target Proportion Weighting\n",
        "print(metrics_df_proport.pivot(index='Metric', columns='Group', values='Value'))"
      ],
      "metadata": {
        "id": "rQw2dOT5xDD3",
        "colab": {
          "base_uri": "https://localhost:8080/"
        },
        "outputId": "f7344ad1-491a-437e-ed41-2c32b2672412"
      },
      "execution_count": 93,
      "outputs": [
        {
          "output_type": "stream",
          "name": "stdout",
          "text": [
            "Group        Female      Male\n",
            "Metric                       \n",
            "Accuracy   0.833333  0.813953\n",
            "FPR        0.666667  0.307692\n",
            "Precision  0.875000  0.680000\n",
            "Recall     0.933333  1.000000\n"
          ]
        }
      ]
    },
    {
      "cell_type": "code",
      "source": [
        "#Split gender data model\n",
        "print(metrics_df_mit.pivot(index='Metric', columns='Group', values='Value'))"
      ],
      "metadata": {
        "id": "ny0wH8DjxC9c",
        "colab": {
          "base_uri": "https://localhost:8080/"
        },
        "outputId": "27eeb63f-caa3-4f2b-9326-0e7ce6270524"
      },
      "execution_count": 94,
      "outputs": [
        {
          "output_type": "stream",
          "name": "stdout",
          "text": [
            "Group        Female      Male\n",
            "Metric                       \n",
            "Accuracy   0.888889  0.767442\n",
            "FPR        0.666667  0.269231\n",
            "Precision  0.882353  0.666667\n",
            "Recall     1.000000  0.823529\n"
          ]
        }
      ]
    },
    {
      "cell_type": "code",
      "source": [
        "# Print the pivoted DataFrame to show metrics by group\n",
        "print(metrics_df_threshold.pivot(index='Metric', columns='Group', values='Value'))"
      ],
      "metadata": {
        "id": "SU7HxLF6xC64",
        "colab": {
          "base_uri": "https://localhost:8080/"
        },
        "outputId": "3c3f7e5f-6ceb-48d2-a7ea-62cb4907e9aa"
      },
      "execution_count": 95,
      "outputs": [
        {
          "output_type": "stream",
          "name": "stdout",
          "text": [
            "Group        Female      Male\n",
            "Metric                       \n",
            "Accuracy   0.888889  0.790698\n",
            "FPR        0.666667  0.346154\n",
            "Precision  0.882353  0.653846\n",
            "Recall     1.000000  1.000000\n"
          ]
        }
      ]
    },
    {
      "cell_type": "code",
      "source": [
        "import pandas as pd\n",
        "\n",
        "# Assume metrics_df_gender, metrics_df_target, metrics_df_proport, metrics_df_mit, metrics_df_threshold are already defined as shown in the results\n",
        "\n",
        "# Pivoting each DataFrame\n",
        "pivot_gender = metrics_df_gender.pivot(index='Metric', columns='Group', values='Value')\n",
        "pivot_target = metrics_df_target.pivot(index='Metric', columns='Group', values='Value')\n",
        "pivot_proport = metrics_df_proport.pivot(index='Metric', columns='Group', values='Value')\n",
        "pivot_mit = metrics_df_mit.pivot(index='Metric', columns='Group', values='Value')\n",
        "pivot_threshold = metrics_df_threshold.pivot(index='Metric', columns='Group', values='Value')\n",
        "\n",
        "# Renaming the columns to reflect the model type\n",
        "pivot_gender.columns = pd.MultiIndex.from_product([['Gender Weighting'], pivot_gender.columns])\n",
        "pivot_target.columns = pd.MultiIndex.from_product([['Target Weighting'], pivot_target.columns])\n",
        "pivot_proport.columns = pd.MultiIndex.from_product([['Female Target Proportion Weighting'], pivot_proport.columns])\n",
        "pivot_mit.columns = pd.MultiIndex.from_product([['Split Gender Data Model'], pivot_mit.columns])\n",
        "pivot_threshold.columns = pd.MultiIndex.from_product([['Threshold Model'], pivot_threshold.columns])\n",
        "\n",
        "# Combining all pivoted DataFrames\n",
        "combined_metrics = pd.concat([pivot_gender, pivot_target, pivot_proport, pivot_mit, pivot_threshold], axis=1)\n",
        "\n",
        "# Printing the combined DataFrame\n",
        "print(combined_metrics)\n"
      ],
      "metadata": {
        "colab": {
          "base_uri": "https://localhost:8080/"
        },
        "id": "Wr5kkJHDyf2e",
        "outputId": "957d5712-7fb1-45db-8976-918ab8b11900"
      },
      "execution_count": 96,
      "outputs": [
        {
          "output_type": "stream",
          "name": "stdout",
          "text": [
            "          Gender Weighting           Target Weighting            \\\n",
            "Group               Female      Male           Female      Male   \n",
            "Metric                                                            \n",
            "Accuracy          0.833333  0.767442         0.833333  0.767442   \n",
            "FPR               0.666667  0.346154         0.666667  0.346154   \n",
            "Precision         0.875000  0.640000         0.875000  0.640000   \n",
            "Recall            0.933333  0.941176         0.933333  0.941176   \n",
            "\n",
            "          Female Target Proportion Weighting            \\\n",
            "Group                                 Female      Male   \n",
            "Metric                                                   \n",
            "Accuracy                            0.833333  0.813953   \n",
            "FPR                                 0.666667  0.307692   \n",
            "Precision                           0.875000  0.680000   \n",
            "Recall                              0.933333  1.000000   \n",
            "\n",
            "          Split Gender Data Model           Threshold Model            \n",
            "Group                      Female      Male          Female      Male  \n",
            "Metric                                                                 \n",
            "Accuracy                 0.888889  0.767442        0.888889  0.790698  \n",
            "FPR                      0.666667  0.269231        0.666667  0.346154  \n",
            "Precision                0.882353  0.666667        0.882353  0.653846  \n",
            "Recall                   1.000000  0.823529        1.000000  1.000000  \n"
          ]
        }
      ]
    },
    {
      "cell_type": "markdown",
      "source": [
        "\n",
        "Analyzing the performance metrics across different weighting models reveals varied impacts on prediction accuracy and fairness between the female and male groups. All models show consistent improvements in recall for males, with some reaching a perfect recall of 1.000, indicating no missed positive predictions for this group. However, the false positive rate (FPR) remains consistently higher for females across all models, suggesting a bias towards predicting false positives more frequently in females. Precision is generally higher for females than for males in most models, indicating more reliable positive predictions for the female group. The accuracy of the models tends to be higher for females than for males, except in the split gender data model, which shows more balanced accuracy between the groups. These results underscore the need to further refine the models to reduce FPR discrepancies and improve overall fairness and accuracy for both genders."
      ],
      "metadata": {
        "id": "Jk9sD7AsJ4OC"
      }
    }
  ],
  "metadata": {
    "colab": {
      "provenance": [],
      "collapsed_sections": [
        "JAiptIc5txB9"
      ]
    },
    "kernelspec": {
      "display_name": "Python 3",
      "name": "python3"
    },
    "language_info": {
      "name": "python"
    }
  },
  "nbformat": 4,
  "nbformat_minor": 0
}